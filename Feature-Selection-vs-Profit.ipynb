{
 "cells": [
  {
   "cell_type": "code",
   "execution_count": 406,
   "metadata": {},
   "outputs": [],
   "source": [
    "import numpy as np\n",
    "import pandas as pd\n",
    "import matplotlib.pyplot as plt\n",
    "\n",
    "from sklearn.linear_model import LinearRegression\n",
    "from sklearn.cross_validation import train_test_split\n",
    "from sklearn.metrics import accuracy_score\n",
    "from sklearn.cross_validation import cross_val_score\n",
    "from sklearn import metrics\n",
    "from sklearn.neighbors import KNeighborsClassifier\n",
    "import seaborn as sns\n",
    "\n",
    "import warnings\n",
    "with warnings.catch_warnings():\n",
    "    warnings.filterwarnings(\"ignore\",category=DeprecationWarning)"
   ]
  },
  {
   "cell_type": "code",
   "execution_count": 407,
   "metadata": {},
   "outputs": [
    {
     "data": {
      "text/html": [
       "<div>\n",
       "<style>\n",
       "    .dataframe thead tr:only-child th {\n",
       "        text-align: right;\n",
       "    }\n",
       "\n",
       "    .dataframe thead th {\n",
       "        text-align: left;\n",
       "    }\n",
       "\n",
       "    .dataframe tbody tr th {\n",
       "        vertical-align: top;\n",
       "    }\n",
       "</style>\n",
       "<table border=\"1\" class=\"dataframe\">\n",
       "  <thead>\n",
       "    <tr style=\"text-align: right;\">\n",
       "      <th></th>\n",
       "      <th>color</th>\n",
       "      <th>director_name</th>\n",
       "      <th>num_critic_for_reviews</th>\n",
       "      <th>duration</th>\n",
       "      <th>director_facebook_likes</th>\n",
       "      <th>actor_3_facebook_likes</th>\n",
       "      <th>actor_2_name</th>\n",
       "      <th>actor_1_facebook_likes</th>\n",
       "      <th>gross</th>\n",
       "      <th>genres</th>\n",
       "      <th>...</th>\n",
       "      <th>num_user_for_reviews</th>\n",
       "      <th>language</th>\n",
       "      <th>country</th>\n",
       "      <th>content_rating</th>\n",
       "      <th>budget</th>\n",
       "      <th>title_year</th>\n",
       "      <th>actor_2_facebook_likes</th>\n",
       "      <th>imdb_score</th>\n",
       "      <th>aspect_ratio</th>\n",
       "      <th>movie_facebook_likes</th>\n",
       "    </tr>\n",
       "  </thead>\n",
       "  <tbody>\n",
       "    <tr>\n",
       "      <th>0</th>\n",
       "      <td>Color</td>\n",
       "      <td>James Cameron</td>\n",
       "      <td>723.0</td>\n",
       "      <td>178.0</td>\n",
       "      <td>0.0</td>\n",
       "      <td>855.0</td>\n",
       "      <td>Joel David Moore</td>\n",
       "      <td>1000.0</td>\n",
       "      <td>760505847.0</td>\n",
       "      <td>Action|Adventure|Fantasy|Sci-Fi</td>\n",
       "      <td>...</td>\n",
       "      <td>3054.0</td>\n",
       "      <td>English</td>\n",
       "      <td>USA</td>\n",
       "      <td>PG-13</td>\n",
       "      <td>237000000.0</td>\n",
       "      <td>2009.0</td>\n",
       "      <td>936.0</td>\n",
       "      <td>7.9</td>\n",
       "      <td>1.78</td>\n",
       "      <td>33000</td>\n",
       "    </tr>\n",
       "    <tr>\n",
       "      <th>1</th>\n",
       "      <td>Color</td>\n",
       "      <td>Gore Verbinski</td>\n",
       "      <td>302.0</td>\n",
       "      <td>169.0</td>\n",
       "      <td>563.0</td>\n",
       "      <td>1000.0</td>\n",
       "      <td>Orlando Bloom</td>\n",
       "      <td>40000.0</td>\n",
       "      <td>309404152.0</td>\n",
       "      <td>Action|Adventure|Fantasy</td>\n",
       "      <td>...</td>\n",
       "      <td>1238.0</td>\n",
       "      <td>English</td>\n",
       "      <td>USA</td>\n",
       "      <td>PG-13</td>\n",
       "      <td>300000000.0</td>\n",
       "      <td>2007.0</td>\n",
       "      <td>5000.0</td>\n",
       "      <td>7.1</td>\n",
       "      <td>2.35</td>\n",
       "      <td>0</td>\n",
       "    </tr>\n",
       "    <tr>\n",
       "      <th>2</th>\n",
       "      <td>Color</td>\n",
       "      <td>Sam Mendes</td>\n",
       "      <td>602.0</td>\n",
       "      <td>148.0</td>\n",
       "      <td>0.0</td>\n",
       "      <td>161.0</td>\n",
       "      <td>Rory Kinnear</td>\n",
       "      <td>11000.0</td>\n",
       "      <td>200074175.0</td>\n",
       "      <td>Action|Adventure|Thriller</td>\n",
       "      <td>...</td>\n",
       "      <td>994.0</td>\n",
       "      <td>English</td>\n",
       "      <td>UK</td>\n",
       "      <td>PG-13</td>\n",
       "      <td>245000000.0</td>\n",
       "      <td>2015.0</td>\n",
       "      <td>393.0</td>\n",
       "      <td>6.8</td>\n",
       "      <td>2.35</td>\n",
       "      <td>85000</td>\n",
       "    </tr>\n",
       "    <tr>\n",
       "      <th>3</th>\n",
       "      <td>Color</td>\n",
       "      <td>Christopher Nolan</td>\n",
       "      <td>813.0</td>\n",
       "      <td>164.0</td>\n",
       "      <td>22000.0</td>\n",
       "      <td>23000.0</td>\n",
       "      <td>Christian Bale</td>\n",
       "      <td>27000.0</td>\n",
       "      <td>448130642.0</td>\n",
       "      <td>Action|Thriller</td>\n",
       "      <td>...</td>\n",
       "      <td>2701.0</td>\n",
       "      <td>English</td>\n",
       "      <td>USA</td>\n",
       "      <td>PG-13</td>\n",
       "      <td>250000000.0</td>\n",
       "      <td>2012.0</td>\n",
       "      <td>23000.0</td>\n",
       "      <td>8.5</td>\n",
       "      <td>2.35</td>\n",
       "      <td>164000</td>\n",
       "    </tr>\n",
       "    <tr>\n",
       "      <th>4</th>\n",
       "      <td>NaN</td>\n",
       "      <td>Doug Walker</td>\n",
       "      <td>NaN</td>\n",
       "      <td>NaN</td>\n",
       "      <td>131.0</td>\n",
       "      <td>NaN</td>\n",
       "      <td>Rob Walker</td>\n",
       "      <td>131.0</td>\n",
       "      <td>NaN</td>\n",
       "      <td>Documentary</td>\n",
       "      <td>...</td>\n",
       "      <td>NaN</td>\n",
       "      <td>NaN</td>\n",
       "      <td>NaN</td>\n",
       "      <td>NaN</td>\n",
       "      <td>NaN</td>\n",
       "      <td>NaN</td>\n",
       "      <td>12.0</td>\n",
       "      <td>7.1</td>\n",
       "      <td>NaN</td>\n",
       "      <td>0</td>\n",
       "    </tr>\n",
       "  </tbody>\n",
       "</table>\n",
       "<p>5 rows × 28 columns</p>\n",
       "</div>"
      ],
      "text/plain": [
       "   color      director_name  num_critic_for_reviews  duration  \\\n",
       "0  Color      James Cameron                   723.0     178.0   \n",
       "1  Color     Gore Verbinski                   302.0     169.0   \n",
       "2  Color         Sam Mendes                   602.0     148.0   \n",
       "3  Color  Christopher Nolan                   813.0     164.0   \n",
       "4    NaN        Doug Walker                     NaN       NaN   \n",
       "\n",
       "   director_facebook_likes  actor_3_facebook_likes      actor_2_name  \\\n",
       "0                      0.0                   855.0  Joel David Moore   \n",
       "1                    563.0                  1000.0     Orlando Bloom   \n",
       "2                      0.0                   161.0      Rory Kinnear   \n",
       "3                  22000.0                 23000.0    Christian Bale   \n",
       "4                    131.0                     NaN        Rob Walker   \n",
       "\n",
       "   actor_1_facebook_likes        gross                           genres  \\\n",
       "0                  1000.0  760505847.0  Action|Adventure|Fantasy|Sci-Fi   \n",
       "1                 40000.0  309404152.0         Action|Adventure|Fantasy   \n",
       "2                 11000.0  200074175.0        Action|Adventure|Thriller   \n",
       "3                 27000.0  448130642.0                  Action|Thriller   \n",
       "4                   131.0          NaN                      Documentary   \n",
       "\n",
       "          ...          num_user_for_reviews language  country  content_rating  \\\n",
       "0         ...                        3054.0  English      USA           PG-13   \n",
       "1         ...                        1238.0  English      USA           PG-13   \n",
       "2         ...                         994.0  English       UK           PG-13   \n",
       "3         ...                        2701.0  English      USA           PG-13   \n",
       "4         ...                           NaN      NaN      NaN             NaN   \n",
       "\n",
       "        budget  title_year actor_2_facebook_likes imdb_score  aspect_ratio  \\\n",
       "0  237000000.0      2009.0                  936.0        7.9          1.78   \n",
       "1  300000000.0      2007.0                 5000.0        7.1          2.35   \n",
       "2  245000000.0      2015.0                  393.0        6.8          2.35   \n",
       "3  250000000.0      2012.0                23000.0        8.5          2.35   \n",
       "4          NaN         NaN                   12.0        7.1           NaN   \n",
       "\n",
       "  movie_facebook_likes  \n",
       "0                33000  \n",
       "1                    0  \n",
       "2                85000  \n",
       "3               164000  \n",
       "4                    0  \n",
       "\n",
       "[5 rows x 28 columns]"
      ]
     },
     "execution_count": 407,
     "metadata": {},
     "output_type": "execute_result"
    }
   ],
   "source": [
    "# Read csv into Pandas dataframe\n",
    "movies_dataframe = pd.read_csv('movie_metadata.csv')\n",
    "movies_dataframe.head(5)"
   ]
  },
  {
   "cell_type": "code",
   "execution_count": 408,
   "metadata": {},
   "outputs": [
    {
     "data": {
      "text/plain": [
       "(5043, 28)"
      ]
     },
     "execution_count": 408,
     "metadata": {},
     "output_type": "execute_result"
    }
   ],
   "source": [
    "movies_dataframe.shape"
   ]
  },
  {
   "cell_type": "code",
   "execution_count": 409,
   "metadata": {},
   "outputs": [
    {
     "data": {
      "text/html": [
       "<div>\n",
       "<style>\n",
       "    .dataframe thead tr:only-child th {\n",
       "        text-align: right;\n",
       "    }\n",
       "\n",
       "    .dataframe thead th {\n",
       "        text-align: left;\n",
       "    }\n",
       "\n",
       "    .dataframe tbody tr th {\n",
       "        vertical-align: top;\n",
       "    }\n",
       "</style>\n",
       "<table border=\"1\" class=\"dataframe\">\n",
       "  <thead>\n",
       "    <tr style=\"text-align: right;\">\n",
       "      <th></th>\n",
       "      <th>color</th>\n",
       "      <th>director_name</th>\n",
       "      <th>num_critic_for_reviews</th>\n",
       "      <th>duration</th>\n",
       "      <th>director_facebook_likes</th>\n",
       "      <th>actor_3_facebook_likes</th>\n",
       "      <th>actor_2_name</th>\n",
       "      <th>actor_1_facebook_likes</th>\n",
       "      <th>gross</th>\n",
       "      <th>genres</th>\n",
       "      <th>...</th>\n",
       "      <th>country</th>\n",
       "      <th>content_rating</th>\n",
       "      <th>budget</th>\n",
       "      <th>title_year</th>\n",
       "      <th>actor_2_facebook_likes</th>\n",
       "      <th>imdb_score</th>\n",
       "      <th>aspect_ratio</th>\n",
       "      <th>movie_facebook_likes</th>\n",
       "      <th>profit</th>\n",
       "      <th>profitpercent</th>\n",
       "    </tr>\n",
       "  </thead>\n",
       "  <tbody>\n",
       "    <tr>\n",
       "      <th>0</th>\n",
       "      <td>Color</td>\n",
       "      <td>James Cameron</td>\n",
       "      <td>723.0</td>\n",
       "      <td>178.0</td>\n",
       "      <td>0.0</td>\n",
       "      <td>855.0</td>\n",
       "      <td>Joel David Moore</td>\n",
       "      <td>1000.0</td>\n",
       "      <td>760505847.0</td>\n",
       "      <td>Action|Adventure|Fantasy|Sci-Fi</td>\n",
       "      <td>...</td>\n",
       "      <td>USA</td>\n",
       "      <td>PG-13</td>\n",
       "      <td>237000000.0</td>\n",
       "      <td>2009.0</td>\n",
       "      <td>936.0</td>\n",
       "      <td>7.9</td>\n",
       "      <td>1.78</td>\n",
       "      <td>33000</td>\n",
       "      <td>523505847.0</td>\n",
       "      <td>5.235058e+10</td>\n",
       "    </tr>\n",
       "    <tr>\n",
       "      <th>1</th>\n",
       "      <td>Color</td>\n",
       "      <td>Gore Verbinski</td>\n",
       "      <td>302.0</td>\n",
       "      <td>169.0</td>\n",
       "      <td>563.0</td>\n",
       "      <td>1000.0</td>\n",
       "      <td>Orlando Bloom</td>\n",
       "      <td>40000.0</td>\n",
       "      <td>309404152.0</td>\n",
       "      <td>Action|Adventure|Fantasy</td>\n",
       "      <td>...</td>\n",
       "      <td>USA</td>\n",
       "      <td>PG-13</td>\n",
       "      <td>300000000.0</td>\n",
       "      <td>2007.0</td>\n",
       "      <td>5000.0</td>\n",
       "      <td>7.1</td>\n",
       "      <td>2.35</td>\n",
       "      <td>0</td>\n",
       "      <td>9404152.0</td>\n",
       "      <td>9.404152e+08</td>\n",
       "    </tr>\n",
       "    <tr>\n",
       "      <th>3</th>\n",
       "      <td>Color</td>\n",
       "      <td>Christopher Nolan</td>\n",
       "      <td>813.0</td>\n",
       "      <td>164.0</td>\n",
       "      <td>22000.0</td>\n",
       "      <td>23000.0</td>\n",
       "      <td>Christian Bale</td>\n",
       "      <td>27000.0</td>\n",
       "      <td>448130642.0</td>\n",
       "      <td>Action|Thriller</td>\n",
       "      <td>...</td>\n",
       "      <td>USA</td>\n",
       "      <td>PG-13</td>\n",
       "      <td>250000000.0</td>\n",
       "      <td>2012.0</td>\n",
       "      <td>23000.0</td>\n",
       "      <td>8.5</td>\n",
       "      <td>2.35</td>\n",
       "      <td>164000</td>\n",
       "      <td>198130642.0</td>\n",
       "      <td>1.981306e+10</td>\n",
       "    </tr>\n",
       "    <tr>\n",
       "      <th>5</th>\n",
       "      <td>Color</td>\n",
       "      <td>Andrew Stanton</td>\n",
       "      <td>462.0</td>\n",
       "      <td>132.0</td>\n",
       "      <td>475.0</td>\n",
       "      <td>530.0</td>\n",
       "      <td>Samantha Morton</td>\n",
       "      <td>640.0</td>\n",
       "      <td>73058679.0</td>\n",
       "      <td>Action|Adventure|Sci-Fi</td>\n",
       "      <td>...</td>\n",
       "      <td>USA</td>\n",
       "      <td>PG-13</td>\n",
       "      <td>263700000.0</td>\n",
       "      <td>2012.0</td>\n",
       "      <td>632.0</td>\n",
       "      <td>6.6</td>\n",
       "      <td>2.35</td>\n",
       "      <td>24000</td>\n",
       "      <td>-190641321.0</td>\n",
       "      <td>-1.906413e+10</td>\n",
       "    </tr>\n",
       "    <tr>\n",
       "      <th>6</th>\n",
       "      <td>Color</td>\n",
       "      <td>Sam Raimi</td>\n",
       "      <td>392.0</td>\n",
       "      <td>156.0</td>\n",
       "      <td>0.0</td>\n",
       "      <td>4000.0</td>\n",
       "      <td>James Franco</td>\n",
       "      <td>24000.0</td>\n",
       "      <td>336530303.0</td>\n",
       "      <td>Action|Adventure|Romance</td>\n",
       "      <td>...</td>\n",
       "      <td>USA</td>\n",
       "      <td>PG-13</td>\n",
       "      <td>258000000.0</td>\n",
       "      <td>2007.0</td>\n",
       "      <td>11000.0</td>\n",
       "      <td>6.2</td>\n",
       "      <td>2.35</td>\n",
       "      <td>0</td>\n",
       "      <td>78530303.0</td>\n",
       "      <td>7.853030e+09</td>\n",
       "    </tr>\n",
       "  </tbody>\n",
       "</table>\n",
       "<p>5 rows × 30 columns</p>\n",
       "</div>"
      ],
      "text/plain": [
       "   color      director_name  num_critic_for_reviews  duration  \\\n",
       "0  Color      James Cameron                   723.0     178.0   \n",
       "1  Color     Gore Verbinski                   302.0     169.0   \n",
       "3  Color  Christopher Nolan                   813.0     164.0   \n",
       "5  Color     Andrew Stanton                   462.0     132.0   \n",
       "6  Color          Sam Raimi                   392.0     156.0   \n",
       "\n",
       "   director_facebook_likes  actor_3_facebook_likes      actor_2_name  \\\n",
       "0                      0.0                   855.0  Joel David Moore   \n",
       "1                    563.0                  1000.0     Orlando Bloom   \n",
       "3                  22000.0                 23000.0    Christian Bale   \n",
       "5                    475.0                   530.0   Samantha Morton   \n",
       "6                      0.0                  4000.0      James Franco   \n",
       "\n",
       "   actor_1_facebook_likes        gross                           genres  \\\n",
       "0                  1000.0  760505847.0  Action|Adventure|Fantasy|Sci-Fi   \n",
       "1                 40000.0  309404152.0         Action|Adventure|Fantasy   \n",
       "3                 27000.0  448130642.0                  Action|Thriller   \n",
       "5                   640.0   73058679.0          Action|Adventure|Sci-Fi   \n",
       "6                 24000.0  336530303.0         Action|Adventure|Romance   \n",
       "\n",
       "       ...      country content_rating       budget  title_year  \\\n",
       "0      ...          USA          PG-13  237000000.0      2009.0   \n",
       "1      ...          USA          PG-13  300000000.0      2007.0   \n",
       "3      ...          USA          PG-13  250000000.0      2012.0   \n",
       "5      ...          USA          PG-13  263700000.0      2012.0   \n",
       "6      ...          USA          PG-13  258000000.0      2007.0   \n",
       "\n",
       "  actor_2_facebook_likes  imdb_score aspect_ratio movie_facebook_likes  \\\n",
       "0                  936.0         7.9         1.78                33000   \n",
       "1                 5000.0         7.1         2.35                    0   \n",
       "3                23000.0         8.5         2.35               164000   \n",
       "5                  632.0         6.6         2.35                24000   \n",
       "6                11000.0         6.2         2.35                    0   \n",
       "\n",
       "        profit profitpercent  \n",
       "0  523505847.0  5.235058e+10  \n",
       "1    9404152.0  9.404152e+08  \n",
       "3  198130642.0  1.981306e+10  \n",
       "5 -190641321.0 -1.906413e+10  \n",
       "6   78530303.0  7.853030e+09  \n",
       "\n",
       "[5 rows x 30 columns]"
      ]
     },
     "execution_count": 409,
     "metadata": {},
     "output_type": "execute_result"
    }
   ],
   "source": [
    "# PRE-PROCESSING\n",
    "\n",
    "# Remove all movies made outside the USA\n",
    "movies_dataframe = movies_dataframe.drop(movies_dataframe[movies_dataframe.country != 'USA'].index)\n",
    "# Any block with missing information is dropped\n",
    "movies_dataframe.dropna()\n",
    "#movies_dataframe = movies_dataframe.select_dtypes(include=['int64','float64'])\n",
    "#movies_dataframe = movies_dataframe.fillna(0)\n",
    "\n",
    "# To fix an issue that would later appear, all samples with the \"Color\" feature set to 0, \n",
    "# meaning that the field was empty, is to be dropped.\n",
    "#movies_dataframe = movies_dataframe.drop(movies_dataframe[movies_dataframe.color == 0].index)\n",
    "\n",
    "# Calculate profit to adjust for inflation\n",
    "# Subtract budget from gross to calculate profits and add it as a new feature\n",
    "movies_dataframe['profit'] = np.subtract(movies_dataframe[['gross']], movies_dataframe[['budget']])\n",
    "\n",
    "# movies_dataframe['profitpercent'] = np.subtract(movies_dataframe['gross'].values, movies_dataframe['budget'].values)\n",
    "# movies_dataframe['profitpercent'] = np.divide(movies_dataframe['profit'].values, movies_dataframe['gross'].values)\n",
    "# movies_dataframe['profitpercent'] = np.multiply(movies_dataframe['profit'].values, 100)\n",
    "\n",
    "profit = (((df2['gross'].values)-(df2['budget'].values))/(df2['gross'].values))*100\n",
    "df2.loc[:,'profit'] = pd.Series(profit, index=df2.index)\n",
    "\n",
    "\n",
    "movies_dataframe.head(5)"
   ]
  },
  {
   "cell_type": "code",
   "execution_count": 410,
   "metadata": {},
   "outputs": [
    {
     "data": {
      "text/plain": [
       "(3807, 30)"
      ]
     },
     "execution_count": 410,
     "metadata": {},
     "output_type": "execute_result"
    }
   ],
   "source": [
    "movies_dataframe.shape"
   ]
  },
  {
   "cell_type": "code",
   "execution_count": 411,
   "metadata": {},
   "outputs": [
    {
     "name": "stderr",
     "output_type": "stream",
     "text": [
      "C:\\Anaconda3\\lib\\site-packages\\numpy\\lib\\function_base.py:747: RuntimeWarning: invalid value encountered in greater_equal\n",
      "  keep = (tmp_a >= mn)\n",
      "C:\\Anaconda3\\lib\\site-packages\\numpy\\lib\\function_base.py:748: RuntimeWarning: invalid value encountered in less_equal\n",
      "  keep &= (tmp_a <= mx)\n"
     ]
    },
    {
     "data": {
      "image/png": "[encoded data removed]",
      "text/plain": [
       "<matplotlib.figure.Figure at 0x21e97ce0ac8>"
      ]
     },
     "metadata": {},
     "output_type": "display_data"
    },
    {
     "name": "stdout",
     "output_type": "stream",
     "text": [
      "profit    99.9861\n",
      "dtype: float64\n"
     ]
    }
   ],
   "source": [
    "# Graph for Profits vs Number of Movies\n",
    "%matplotlib inline\n",
    "plt.hist(movies_dataframe['profit'], bins=8, normed=False, range=(0, 550000000))\n",
    "\n",
    "plt.xlabel('Profit (in hundred millions)')\n",
    "plt.ylabel('Number of movies')\n",
    "plt.show()\n",
    "\n",
    "# We also want to see what the most profitable movie in our dataset made\n",
    "# We will also use our maximum profit number for limits\n",
    "#max_gross = movies_dataframe[['profit']].max()\n",
    "print(max_gross)"
   ]
  },
  {
   "cell_type": "markdown",
   "metadata": {},
   "source": [
    "<dl>\n",
    "    <dt><h3>Movie Info</h3></dt>\n",
    "    <dd><em>IMDB Score, Budget, Duration, Title Year</em></dd>\n",
    "</dl>"
   ]
  },
  {
   "cell_type": "code",
   "execution_count": 397,
   "metadata": {},
   "outputs": [
    {
     "data": {
      "text/plain": [
       "<matplotlib.text.Text at 0x21e9640c400>"
      ]
     },
     "execution_count": 397,
     "metadata": {},
     "output_type": "execute_result"
    },
    {
     "data": {
      "image/png": "[encoded data removed]",
      "text/plain": [
       "<matplotlib.figure.Figure at 0x21e95656e80>"
      ]
     },
     "metadata": {},
     "output_type": "display_data"
    }
   ],
   "source": [
    "figure, (ax1, ax2, ax3) = plt.subplots(1, 3, sharey = True, figsize = (15, 5))\n",
    "ax1.scatter(movies_dataframe['imdb_score'], movies_dataframe['profit'], alpha = 0.5)\n",
    "ax2.scatter(movies_dataframe['budget'], movies_dataframe['profit'], alpha = 0.5)\n",
    "ax3.scatter(movies_dataframe['duration'], movies_dataframe['profit'], alpha = 0.5)\n",
    "\n",
    "ax1.set_ylabel('Profit (in hundred-millions)')\n",
    "ax1.set_title('IMDB Score 1-10')\n",
    "ax2.set_title('Budget (in millions)')\n",
    "ax3.set_title('Duration (in minutes)')"
   ]
  },
  {
   "cell_type": "code",
   "execution_count": 398,
   "metadata": {},
   "outputs": [
    {
     "data": {
      "image/png": "[encoded data removed]",
      "text/plain": [
       "<matplotlib.figure.Figure at 0x21e931ee780>"
      ]
     },
     "metadata": {},
     "output_type": "display_data"
    }
   ],
   "source": [
    "# Profit vs. Title Year\n",
    "\n",
    "x_axis = movies_dataframe[['title_year']]\n",
    "y = movies_dataframe[['profit']]\n",
    "\n",
    "plt.ylabel('Profit')\n",
    "plt.xlabel('Title Year')\n",
    "\n",
    "plt.ylim([-300000000, 525000000])   #Profit range of -$300M - $525M\n",
    "plt.xlim([1920, 2020])              #Title Year range of 1920 - 2020\n",
    "plt.scatter(x_axis, y, alpha=0.5)\n",
    "plt.show()"
   ]
  },
  {
   "cell_type": "markdown",
   "metadata": {},
   "source": [
    "<dl>\n",
    "    <dt></dt>\n",
    "    <dd>Patterns that correlate with a movie's profit can clearly be seen with IMDB score, budget, and duration.  IMDB Score shows a relative rise in profit as a movie's rating increases to a point.  Budget and duration show that most movies follow a standard format.\n",
    "    <br /><br />\n",
    "    Title Year should be evaluated with a bit of scrutiny.  The vast majority of samples occur after the year 1980.  Profit values have also not been adjusted for inflation which would also explain for such a rise in earnings for movies.  To adjust for this we will consider movies before 1980 to be outliers and drop them from the dataset.  This fits within the scope of this project as recent movies will have the largest impact.  This will be our new dataset.</dd>\n",
    "</dl>"
   ]
  },
  {
   "cell_type": "code",
   "execution_count": 399,
   "metadata": {
    "scrolled": true
   },
   "outputs": [
    {
     "data": {
      "text/plain": [
       "(3603, 30)"
      ]
     },
     "execution_count": 399,
     "metadata": {},
     "output_type": "execute_result"
    }
   ],
   "source": [
    "# Drop samples with Title Year before 1980\n",
    "movies_dataframe = movies_dataframe.drop(movies_dataframe[movies_dataframe.title_year < 1980].index)\n",
    "\n",
    "# Checking new dataframe size for change.  OLD: (3793, 29)\n",
    "movies_dataframe.shape"
   ]
  },
  {
   "cell_type": "code",
   "execution_count": 400,
   "metadata": {},
   "outputs": [
    {
     "data": {
      "image/png": "[encoded data removed]",
      "text/plain": [
       "<matplotlib.figure.Figure at 0x21e953d31d0>"
      ]
     },
     "metadata": {},
     "output_type": "display_data"
    }
   ],
   "source": [
    "# Profit vs. Title Year (Revised)\n",
    "\n",
    "x_axis = movies_dataframe[['title_year']]\n",
    "y = movies_dataframe[['profit']]\n",
    "%matplotlib inline\n",
    "\n",
    "plt.ylabel('Profit')\n",
    "plt.xlabel('Title Year')\n",
    "\n",
    "plt.ylim([-300000000, 525000000])   #Profit range of -$300M - $525M\n",
    "plt.xlim([1920, 2020])              #Title Year range of 1920 - 2020 to show change\n",
    "plt.scatter(x_axis, y, alpha=0.5)\n",
    "plt.show()"
   ]
  },
  {
   "cell_type": "markdown",
   "metadata": {},
   "source": [
    "<dl>\n",
    "    <dt><h3>Ratings Info</h3></dt>\n",
    "    <dd><em>Number of Critic Reviews, User Reviews, Voted Users</em></dd>\n",
    "</dl>"
   ]
  },
  {
   "cell_type": "code",
   "execution_count": 401,
   "metadata": {},
   "outputs": [
    {
     "data": {
      "text/plain": [
       "<matplotlib.text.Text at 0x21e978fab70>"
      ]
     },
     "execution_count": 401,
     "metadata": {},
     "output_type": "execute_result"
    },
    {
     "data": {
      "image/png": "[encoded data removed]",
      "text/plain": [
       "<matplotlib.figure.Figure at 0x21e97650438>"
      ]
     },
     "metadata": {},
     "output_type": "display_data"
    }
   ],
   "source": [
    "figure, (ax1, ax2, ax3) = plt.subplots(1, 3, sharey = True, figsize = (15, 5))\n",
    "ax1.scatter(movies_dataframe['num_critic_for_reviews'], movies_dataframe['profit'], alpha = 0.5)\n",
    "ax2.scatter(movies_dataframe['num_user_for_reviews'], movies_dataframe['profit'], alpha = 0.5)\n",
    "ax3.scatter(movies_dataframe['num_voted_users'], movies_dataframe['profit'], alpha = 0.5)\n",
    "\n",
    "ax1.set_ylabel('Profit (in hundred-millions)')\n",
    "ax1.set_title('Number of Critic Reviews')\n",
    "ax2.set_title('Number of User Reviews')\n",
    "ax3.set_title('Number of Voted Users')"
   ]
  },
  {
   "cell_type": "markdown",
   "metadata": {},
   "source": [
    "<dl>\n",
    "    <dt></dt>\n",
    "    <dd>All three ratings features present valuable information.\n",
    "    </dd>\n",
    "</dl>"
   ]
  },
  {
   "cell_type": "markdown",
   "metadata": {},
   "source": [
    "<dl>\n",
    "    <dt><h3>Miscellaneous</h3></dt>\n",
    "    <dd><em>Face Number in Poster, Color</em></dd>\n",
    "</dl>"
   ]
  },
  {
   "cell_type": "code",
   "execution_count": 402,
   "metadata": {},
   "outputs": [
    {
     "data": {
      "text/html": [
       "<div>\n",
       "<style>\n",
       "    .dataframe thead tr:only-child th {\n",
       "        text-align: right;\n",
       "    }\n",
       "\n",
       "    .dataframe thead th {\n",
       "        text-align: left;\n",
       "    }\n",
       "\n",
       "    .dataframe tbody tr th {\n",
       "        vertical-align: top;\n",
       "    }\n",
       "</style>\n",
       "<table border=\"1\" class=\"dataframe\">\n",
       "  <thead>\n",
       "    <tr style=\"text-align: right;\">\n",
       "      <th></th>\n",
       "      <th>color</th>\n",
       "      <th>director_name</th>\n",
       "      <th>num_critic_for_reviews</th>\n",
       "      <th>duration</th>\n",
       "      <th>director_facebook_likes</th>\n",
       "      <th>actor_3_facebook_likes</th>\n",
       "      <th>actor_2_name</th>\n",
       "      <th>actor_1_facebook_likes</th>\n",
       "      <th>gross</th>\n",
       "      <th>genres</th>\n",
       "      <th>...</th>\n",
       "      <th>content_rating</th>\n",
       "      <th>budget</th>\n",
       "      <th>title_year</th>\n",
       "      <th>actor_2_facebook_likes</th>\n",
       "      <th>imdb_score</th>\n",
       "      <th>aspect_ratio</th>\n",
       "      <th>movie_facebook_likes</th>\n",
       "      <th>profit</th>\n",
       "      <th>profitpercent</th>\n",
       "      <th>colorlabel</th>\n",
       "    </tr>\n",
       "  </thead>\n",
       "  <tbody>\n",
       "    <tr>\n",
       "      <th>0</th>\n",
       "      <td>Color</td>\n",
       "      <td>James Cameron</td>\n",
       "      <td>723.0</td>\n",
       "      <td>178.0</td>\n",
       "      <td>0.0</td>\n",
       "      <td>855.0</td>\n",
       "      <td>Joel David Moore</td>\n",
       "      <td>1000.0</td>\n",
       "      <td>760505847.0</td>\n",
       "      <td>Action|Adventure|Fantasy|Sci-Fi</td>\n",
       "      <td>...</td>\n",
       "      <td>PG-13</td>\n",
       "      <td>237000000.0</td>\n",
       "      <td>2009.0</td>\n",
       "      <td>936.0</td>\n",
       "      <td>7.9</td>\n",
       "      <td>1.78</td>\n",
       "      <td>33000</td>\n",
       "      <td>523505847.0</td>\n",
       "      <td>5.235058e+10</td>\n",
       "      <td>1</td>\n",
       "    </tr>\n",
       "    <tr>\n",
       "      <th>1</th>\n",
       "      <td>Color</td>\n",
       "      <td>Gore Verbinski</td>\n",
       "      <td>302.0</td>\n",
       "      <td>169.0</td>\n",
       "      <td>563.0</td>\n",
       "      <td>1000.0</td>\n",
       "      <td>Orlando Bloom</td>\n",
       "      <td>40000.0</td>\n",
       "      <td>309404152.0</td>\n",
       "      <td>Action|Adventure|Fantasy</td>\n",
       "      <td>...</td>\n",
       "      <td>PG-13</td>\n",
       "      <td>300000000.0</td>\n",
       "      <td>2007.0</td>\n",
       "      <td>5000.0</td>\n",
       "      <td>7.1</td>\n",
       "      <td>2.35</td>\n",
       "      <td>0</td>\n",
       "      <td>9404152.0</td>\n",
       "      <td>9.404152e+08</td>\n",
       "      <td>1</td>\n",
       "    </tr>\n",
       "    <tr>\n",
       "      <th>3</th>\n",
       "      <td>Color</td>\n",
       "      <td>Christopher Nolan</td>\n",
       "      <td>813.0</td>\n",
       "      <td>164.0</td>\n",
       "      <td>22000.0</td>\n",
       "      <td>23000.0</td>\n",
       "      <td>Christian Bale</td>\n",
       "      <td>27000.0</td>\n",
       "      <td>448130642.0</td>\n",
       "      <td>Action|Thriller</td>\n",
       "      <td>...</td>\n",
       "      <td>PG-13</td>\n",
       "      <td>250000000.0</td>\n",
       "      <td>2012.0</td>\n",
       "      <td>23000.0</td>\n",
       "      <td>8.5</td>\n",
       "      <td>2.35</td>\n",
       "      <td>164000</td>\n",
       "      <td>198130642.0</td>\n",
       "      <td>1.981306e+10</td>\n",
       "      <td>1</td>\n",
       "    </tr>\n",
       "    <tr>\n",
       "      <th>5</th>\n",
       "      <td>Color</td>\n",
       "      <td>Andrew Stanton</td>\n",
       "      <td>462.0</td>\n",
       "      <td>132.0</td>\n",
       "      <td>475.0</td>\n",
       "      <td>530.0</td>\n",
       "      <td>Samantha Morton</td>\n",
       "      <td>640.0</td>\n",
       "      <td>73058679.0</td>\n",
       "      <td>Action|Adventure|Sci-Fi</td>\n",
       "      <td>...</td>\n",
       "      <td>PG-13</td>\n",
       "      <td>263700000.0</td>\n",
       "      <td>2012.0</td>\n",
       "      <td>632.0</td>\n",
       "      <td>6.6</td>\n",
       "      <td>2.35</td>\n",
       "      <td>24000</td>\n",
       "      <td>-190641321.0</td>\n",
       "      <td>-1.906413e+10</td>\n",
       "      <td>1</td>\n",
       "    </tr>\n",
       "    <tr>\n",
       "      <th>6</th>\n",
       "      <td>Color</td>\n",
       "      <td>Sam Raimi</td>\n",
       "      <td>392.0</td>\n",
       "      <td>156.0</td>\n",
       "      <td>0.0</td>\n",
       "      <td>4000.0</td>\n",
       "      <td>James Franco</td>\n",
       "      <td>24000.0</td>\n",
       "      <td>336530303.0</td>\n",
       "      <td>Action|Adventure|Romance</td>\n",
       "      <td>...</td>\n",
       "      <td>PG-13</td>\n",
       "      <td>258000000.0</td>\n",
       "      <td>2007.0</td>\n",
       "      <td>11000.0</td>\n",
       "      <td>6.2</td>\n",
       "      <td>2.35</td>\n",
       "      <td>0</td>\n",
       "      <td>78530303.0</td>\n",
       "      <td>7.853030e+09</td>\n",
       "      <td>1</td>\n",
       "    </tr>\n",
       "  </tbody>\n",
       "</table>\n",
       "<p>5 rows × 31 columns</p>\n",
       "</div>"
      ],
      "text/plain": [
       "   color      director_name  num_critic_for_reviews  duration  \\\n",
       "0  Color      James Cameron                   723.0     178.0   \n",
       "1  Color     Gore Verbinski                   302.0     169.0   \n",
       "3  Color  Christopher Nolan                   813.0     164.0   \n",
       "5  Color     Andrew Stanton                   462.0     132.0   \n",
       "6  Color          Sam Raimi                   392.0     156.0   \n",
       "\n",
       "   director_facebook_likes  actor_3_facebook_likes      actor_2_name  \\\n",
       "0                      0.0                   855.0  Joel David Moore   \n",
       "1                    563.0                  1000.0     Orlando Bloom   \n",
       "3                  22000.0                 23000.0    Christian Bale   \n",
       "5                    475.0                   530.0   Samantha Morton   \n",
       "6                      0.0                  4000.0      James Franco   \n",
       "\n",
       "   actor_1_facebook_likes        gross                           genres  \\\n",
       "0                  1000.0  760505847.0  Action|Adventure|Fantasy|Sci-Fi   \n",
       "1                 40000.0  309404152.0         Action|Adventure|Fantasy   \n",
       "3                 27000.0  448130642.0                  Action|Thriller   \n",
       "5                   640.0   73058679.0          Action|Adventure|Sci-Fi   \n",
       "6                 24000.0  336530303.0         Action|Adventure|Romance   \n",
       "\n",
       "     ...     content_rating       budget  title_year  actor_2_facebook_likes  \\\n",
       "0    ...              PG-13  237000000.0      2009.0                   936.0   \n",
       "1    ...              PG-13  300000000.0      2007.0                  5000.0   \n",
       "3    ...              PG-13  250000000.0      2012.0                 23000.0   \n",
       "5    ...              PG-13  263700000.0      2012.0                   632.0   \n",
       "6    ...              PG-13  258000000.0      2007.0                 11000.0   \n",
       "\n",
       "  imdb_score  aspect_ratio movie_facebook_likes       profit  profitpercent  \\\n",
       "0        7.9          1.78                33000  523505847.0   5.235058e+10   \n",
       "1        7.1          2.35                    0    9404152.0   9.404152e+08   \n",
       "3        8.5          2.35               164000  198130642.0   1.981306e+10   \n",
       "5        6.6          2.35                24000 -190641321.0  -1.906413e+10   \n",
       "6        6.2          2.35                    0   78530303.0   7.853030e+09   \n",
       "\n",
       "  colorlabel  \n",
       "0          1  \n",
       "1          1  \n",
       "3          1  \n",
       "5          1  \n",
       "6          1  \n",
       "\n",
       "[5 rows x 31 columns]"
      ]
     },
     "execution_count": 402,
     "metadata": {},
     "output_type": "execute_result"
    }
   ],
   "source": [
    "# Function to convert color values to binary values\n",
    "def color_to_numeric(x):\n",
    "    if x == 'Color':\n",
    "        return 1;\n",
    "    else:\n",
    "        return 0;\n",
    "    \n",
    "# Creates a new feature named colorlabel using converted values\n",
    "movies_dataframe['colorlabel'] = movies_dataframe['color'].apply(color_to_numeric)\n",
    "movies_dataframe.head(5)"
   ]
  },
  {
   "cell_type": "code",
   "execution_count": 403,
   "metadata": {},
   "outputs": [
    {
     "data": {
      "text/plain": [
       "<matplotlib.text.Text at 0x21e97a7f710>"
      ]
     },
     "execution_count": 403,
     "metadata": {},
     "output_type": "execute_result"
    },
    {
     "data": {
      "image/png": "[encoded data removed]",
      "text/plain": [
       "<matplotlib.figure.Figure at 0x21e97976a58>"
      ]
     },
     "metadata": {},
     "output_type": "display_data"
    }
   ],
   "source": [
    "figure, (ax1, ax2) = plt.subplots(1, 2, sharey = True, figsize = (15, 5))\n",
    "ax1.scatter(movies_dataframe['facenumber_in_poster'], movies_dataframe['profit'], alpha = 0.5)\n",
    "ax2.scatter(movies_dataframe['colorlabel'], movies_dataframe['profit'], alpha = 0.5)\n",
    "\n",
    "ax1.set_ylabel('Profit (in hundred-millions)')\n",
    "ax1.set_title('Face Number in Poster')\n",
    "ax2.set_title('Color')"
   ]
  },
  {
   "cell_type": "markdown",
   "metadata": {},
   "source": [
    "<dl>\n",
    "    <dt></dt>\n",
    "    <dd>Facenumber in Poster is surprisingly informative.  It shows that the number of faces in a movie poster correlates negatively with a movie's profits.  Movies with 0 faces tend to do much better than movies with even just 1 face and linearly decreases as more faces are added.\n",
    "    <br /><br />\n",
    "    Color's results are expected.  Almost all recent movies are color, but there are a fair amount of samples for black and white movies and many that did well.\n",
    "    </dd>\n",
    "</dl>"
   ]
  },
  {
   "cell_type": "markdown",
   "metadata": {},
   "source": [
    "<dl>\n",
    "    <dt><h3>Facebook Info</h3></dt>\n",
    "    <dd><em>Movie Facebook Likes, Cast Total Facebook Likes, Director Facebook Likes</em></dd>\n",
    "</dl>"
   ]
  },
  {
   "cell_type": "code",
   "execution_count": 404,
   "metadata": {},
   "outputs": [
    {
     "data": {
      "text/plain": [
       "<matplotlib.text.Text at 0x21e97cabf28>"
      ]
     },
     "execution_count": 404,
     "metadata": {},
     "output_type": "execute_result"
    },
    {
     "data": {
      "image/png": "[encoded data removed]",
      "text/plain": [
       "<matplotlib.figure.Figure at 0x21e97972c88>"
      ]
     },
     "metadata": {},
     "output_type": "display_data"
    }
   ],
   "source": [
    "figure, (ax1, ax2, ax3) = plt.subplots(1, 3, sharey = True, figsize = (15, 5))\n",
    "ax1.scatter(movies_dataframe['movie_facebook_likes'], movies_dataframe['profit'], alpha = 0.5)\n",
    "ax2.scatter(movies_dataframe['cast_total_facebook_likes'], movies_dataframe['profit'], alpha = 0.5)\n",
    "ax3.scatter(movies_dataframe['director_facebook_likes'], movies_dataframe['profit'], alpha = 0.5)\n",
    "\n",
    "ax1.set_ylabel('Profit (in hundred-millions)')\n",
    "ax1.set_title('Movie Facebook Likes')\n",
    "ax2.set_title('Cast Total Facebook Likes')\n",
    "ax3.set_title('Director Facebook Likes')"
   ]
  },
  {
   "cell_type": "markdown",
   "metadata": {},
   "source": [
    "<dl>\n",
    "    <dt></dt>\n",
    "    <dd>Facebook's influence on a movie's profits can only be calculated on movies made after facebook's creation and rise in popularity.  To include facebook's data in our dataset we would need to eliminate many movies from the dataset.  It is for this reason any of the facebook features will not be included.  Nevertheless, it is still interesting to see what the pyplots show for the data. <br  />\n",
    "    </dd>\n",
    "</dl>"
   ]
  },
  {
   "cell_type": "markdown",
   "metadata": {},
   "source": [
    "### Determining most influential features"
   ]
  },
  {
   "cell_type": "code",
   "execution_count": 405,
   "metadata": {},
   "outputs": [
    {
     "ename": "ValueError",
     "evalue": "cannot convert float NaN to integer",
     "output_type": "error",
     "traceback": [
      "\u001b[1;31m---------------------------------------------------------------------------\u001b[0m",
      "\u001b[1;31mValueError\u001b[0m                                Traceback (most recent call last)",
      "\u001b[1;32m<ipython-input-405-1ace2918ae82>\u001b[0m in \u001b[0;36m<module>\u001b[1;34m()\u001b[0m\n\u001b[0;32m      8\u001b[0m         \u001b[1;32mreturn\u001b[0m \u001b[1;36m2\u001b[0m\u001b[1;33m\u001b[0m\u001b[0m\n\u001b[0;32m      9\u001b[0m \u001b[1;33m\u001b[0m\u001b[0m\n\u001b[1;32m---> 10\u001b[1;33m \u001b[0mmovies_dataframe\u001b[0m\u001b[1;33m[\u001b[0m\u001b[1;34m'profitlabel'\u001b[0m\u001b[1;33m]\u001b[0m \u001b[1;33m=\u001b[0m \u001b[0mmovies_dataframe\u001b[0m\u001b[1;33m[\u001b[0m\u001b[1;34m'profit'\u001b[0m\u001b[1;33m]\u001b[0m\u001b[1;33m.\u001b[0m\u001b[0mapply\u001b[0m\u001b[1;33m(\u001b[0m\u001b[0mprofit_to_numeric\u001b[0m\u001b[1;33m)\u001b[0m\u001b[1;33m\u001b[0m\u001b[0m\n\u001b[0m\u001b[0;32m     11\u001b[0m \u001b[0mmovies_dataframe\u001b[0m\u001b[1;33m.\u001b[0m\u001b[0mhead\u001b[0m\u001b[1;33m(\u001b[0m\u001b[1;36m5\u001b[0m\u001b[1;33m)\u001b[0m\u001b[1;33m\u001b[0m\u001b[0m\n",
      "\u001b[1;32mC:\\Anaconda3\\lib\\site-packages\\pandas\\core\\series.py\u001b[0m in \u001b[0;36mapply\u001b[1;34m(self, func, convert_dtype, args, **kwds)\u001b[0m\n\u001b[0;32m   2353\u001b[0m             \u001b[1;32melse\u001b[0m\u001b[1;33m:\u001b[0m\u001b[1;33m\u001b[0m\u001b[0m\n\u001b[0;32m   2354\u001b[0m                 \u001b[0mvalues\u001b[0m \u001b[1;33m=\u001b[0m \u001b[0mself\u001b[0m\u001b[1;33m.\u001b[0m\u001b[0masobject\u001b[0m\u001b[1;33m\u001b[0m\u001b[0m\n\u001b[1;32m-> 2355\u001b[1;33m                 \u001b[0mmapped\u001b[0m \u001b[1;33m=\u001b[0m \u001b[0mlib\u001b[0m\u001b[1;33m.\u001b[0m\u001b[0mmap_infer\u001b[0m\u001b[1;33m(\u001b[0m\u001b[0mvalues\u001b[0m\u001b[1;33m,\u001b[0m \u001b[0mf\u001b[0m\u001b[1;33m,\u001b[0m \u001b[0mconvert\u001b[0m\u001b[1;33m=\u001b[0m\u001b[0mconvert_dtype\u001b[0m\u001b[1;33m)\u001b[0m\u001b[1;33m\u001b[0m\u001b[0m\n\u001b[0m\u001b[0;32m   2356\u001b[0m \u001b[1;33m\u001b[0m\u001b[0m\n\u001b[0;32m   2357\u001b[0m         \u001b[1;32mif\u001b[0m \u001b[0mlen\u001b[0m\u001b[1;33m(\u001b[0m\u001b[0mmapped\u001b[0m\u001b[1;33m)\u001b[0m \u001b[1;32mand\u001b[0m \u001b[0misinstance\u001b[0m\u001b[1;33m(\u001b[0m\u001b[0mmapped\u001b[0m\u001b[1;33m[\u001b[0m\u001b[1;36m0\u001b[0m\u001b[1;33m]\u001b[0m\u001b[1;33m,\u001b[0m \u001b[0mSeries\u001b[0m\u001b[1;33m)\u001b[0m\u001b[1;33m:\u001b[0m\u001b[1;33m\u001b[0m\u001b[0m\n",
      "\u001b[1;32mpandas\\_libs\\src\\inference.pyx\u001b[0m in \u001b[0;36mpandas._libs.lib.map_infer (pandas\\_libs\\lib.c:66440)\u001b[1;34m()\u001b[0m\n",
      "\u001b[1;32m<ipython-input-405-1ace2918ae82>\u001b[0m in \u001b[0;36mprofit_to_numeric\u001b[1;34m(x)\u001b[0m\n\u001b[0;32m      1\u001b[0m \u001b[1;32mdef\u001b[0m \u001b[0mprofit_to_numeric\u001b[0m\u001b[1;33m(\u001b[0m\u001b[0mx\u001b[0m\u001b[1;33m)\u001b[0m\u001b[1;33m:\u001b[0m\u001b[1;33m\u001b[0m\u001b[0m\n\u001b[1;32m----> 2\u001b[1;33m     \u001b[0mint\u001b[0m\u001b[1;33m(\u001b[0m\u001b[0mx\u001b[0m\u001b[1;33m)\u001b[0m\u001b[1;33m\u001b[0m\u001b[0m\n\u001b[0m\u001b[0;32m      3\u001b[0m     \u001b[1;32mif\u001b[0m \u001b[0mx\u001b[0m \u001b[1;33m==\u001b[0m \u001b[1;36m0\u001b[0m\u001b[1;33m:\u001b[0m      \u001b[1;31m# If profit = 0\u001b[0m\u001b[1;33m\u001b[0m\u001b[0m\n\u001b[0;32m      4\u001b[0m         \u001b[1;32mreturn\u001b[0m \u001b[1;36m0\u001b[0m\u001b[1;33m\u001b[0m\u001b[0m\n\u001b[0;32m      5\u001b[0m     \u001b[1;32melif\u001b[0m \u001b[0mx\u001b[0m \u001b[1;33m<\u001b[0m \u001b[1;36m0\u001b[0m\u001b[1;33m:\u001b[0m     \u001b[1;31m# If profit < 0\u001b[0m\u001b[1;33m\u001b[0m\u001b[0m\n",
      "\u001b[1;31mValueError\u001b[0m: cannot convert float NaN to integer"
     ]
    }
   ],
   "source": [
    "def profit_to_numeric(x):\n",
    "    int(x)\n",
    "    if x == 0:      # If profit = 0\n",
    "        return 0\n",
    "    elif x < 0:     # If profit < 0\n",
    "        return 1\n",
    "    elif x > 0:     # If profit > 0\n",
    "        return 2\n",
    "    \n",
    "movies_dataframe['profitlabel'] = movies_dataframe['profit'].apply(profit_to_numeric)\n",
    "movies_dataframe.head(5)"
   ]
  },
  {
   "cell_type": "code",
   "execution_count": 300,
   "metadata": {},
   "outputs": [
    {
     "data": {
      "text/html": [
       "<div>\n",
       "<style>\n",
       "    .dataframe thead tr:only-child th {\n",
       "        text-align: right;\n",
       "    }\n",
       "\n",
       "    .dataframe thead th {\n",
       "        text-align: left;\n",
       "    }\n",
       "\n",
       "    .dataframe tbody tr th {\n",
       "        vertical-align: top;\n",
       "    }\n",
       "</style>\n",
       "<table border=\"1\" class=\"dataframe\">\n",
       "  <thead>\n",
       "    <tr style=\"text-align: right;\">\n",
       "      <th></th>\n",
       "      <th>num_critic_for_reviews</th>\n",
       "      <th>duration</th>\n",
       "      <th>director_facebook_likes</th>\n",
       "      <th>actor_3_facebook_likes</th>\n",
       "      <th>actor_1_facebook_likes</th>\n",
       "      <th>gross</th>\n",
       "      <th>num_voted_users</th>\n",
       "      <th>cast_total_facebook_likes</th>\n",
       "      <th>facenumber_in_poster</th>\n",
       "      <th>num_user_for_reviews</th>\n",
       "      <th>budget</th>\n",
       "      <th>title_year</th>\n",
       "      <th>actor_2_facebook_likes</th>\n",
       "      <th>imdb_score</th>\n",
       "      <th>aspect_ratio</th>\n",
       "      <th>movie_facebook_likes</th>\n",
       "      <th>profit</th>\n",
       "    </tr>\n",
       "  </thead>\n",
       "  <tbody>\n",
       "    <tr>\n",
       "      <th>num_critic_for_reviews</th>\n",
       "      <td>1.000000</td>\n",
       "      <td>0.311830</td>\n",
       "      <td>0.187841</td>\n",
       "      <td>0.295335</td>\n",
       "      <td>0.181699</td>\n",
       "      <td>0.496316</td>\n",
       "      <td>0.623607</td>\n",
       "      <td>0.263164</td>\n",
       "      <td>-0.035415</td>\n",
       "      <td>0.612704</td>\n",
       "      <td>0.526367</td>\n",
       "      <td>0.303602</td>\n",
       "      <td>0.298187</td>\n",
       "      <td>0.319045</td>\n",
       "      <td>-0.040577</td>\n",
       "      <td>0.687523</td>\n",
       "      <td>0.252738</td>\n",
       "    </tr>\n",
       "    <tr>\n",
       "      <th>duration</th>\n",
       "      <td>0.311830</td>\n",
       "      <td>1.000000</td>\n",
       "      <td>0.205681</td>\n",
       "      <td>0.150070</td>\n",
       "      <td>0.099563</td>\n",
       "      <td>0.290107</td>\n",
       "      <td>0.361775</td>\n",
       "      <td>0.143267</td>\n",
       "      <td>0.000608</td>\n",
       "      <td>0.365386</td>\n",
       "      <td>0.317688</td>\n",
       "      <td>-0.121691</td>\n",
       "      <td>0.160869</td>\n",
       "      <td>0.274634</td>\n",
       "      <td>-0.144641</td>\n",
       "      <td>0.238889</td>\n",
       "      <td>0.132564</td>\n",
       "    </tr>\n",
       "    <tr>\n",
       "      <th>director_facebook_likes</th>\n",
       "      <td>0.187841</td>\n",
       "      <td>0.205681</td>\n",
       "      <td>1.000000</td>\n",
       "      <td>0.121135</td>\n",
       "      <td>0.084878</td>\n",
       "      <td>0.140826</td>\n",
       "      <td>0.311063</td>\n",
       "      <td>0.114187</td>\n",
       "      <td>-0.046969</td>\n",
       "      <td>0.239738</td>\n",
       "      <td>0.097482</td>\n",
       "      <td>-0.066964</td>\n",
       "      <td>0.119034</td>\n",
       "      <td>0.200966</td>\n",
       "      <td>0.009347</td>\n",
       "      <td>0.169988</td>\n",
       "      <td>0.107052</td>\n",
       "    </tr>\n",
       "    <tr>\n",
       "      <th>actor_3_facebook_likes</th>\n",
       "      <td>0.295335</td>\n",
       "      <td>0.150070</td>\n",
       "      <td>0.121135</td>\n",
       "      <td>1.000000</td>\n",
       "      <td>0.241513</td>\n",
       "      <td>0.304574</td>\n",
       "      <td>0.293931</td>\n",
       "      <td>0.463763</td>\n",
       "      <td>0.099629</td>\n",
       "      <td>0.237301</td>\n",
       "      <td>0.288860</td>\n",
       "      <td>0.114134</td>\n",
       "      <td>0.556878</td>\n",
       "      <td>0.073064</td>\n",
       "      <td>-0.001140</td>\n",
       "      <td>0.308868</td>\n",
       "      <td>0.177528</td>\n",
       "    </tr>\n",
       "    <tr>\n",
       "      <th>actor_1_facebook_likes</th>\n",
       "      <td>0.181699</td>\n",
       "      <td>0.099563</td>\n",
       "      <td>0.084878</td>\n",
       "      <td>0.241513</td>\n",
       "      <td>1.000000</td>\n",
       "      <td>0.137337</td>\n",
       "      <td>0.178378</td>\n",
       "      <td>0.952521</td>\n",
       "      <td>0.066992</td>\n",
       "      <td>0.134527</td>\n",
       "      <td>0.160462</td>\n",
       "      <td>0.095718</td>\n",
       "      <td>0.377472</td>\n",
       "      <td>0.095867</td>\n",
       "      <td>-0.018482</td>\n",
       "      <td>0.124172</td>\n",
       "      <td>0.050701</td>\n",
       "    </tr>\n",
       "    <tr>\n",
       "      <th>gross</th>\n",
       "      <td>0.496316</td>\n",
       "      <td>0.290107</td>\n",
       "      <td>0.140826</td>\n",
       "      <td>0.304574</td>\n",
       "      <td>0.137337</td>\n",
       "      <td>1.000000</td>\n",
       "      <td>0.644193</td>\n",
       "      <td>0.229336</td>\n",
       "      <td>-0.031841</td>\n",
       "      <td>0.557896</td>\n",
       "      <td>0.646158</td>\n",
       "      <td>0.036865</td>\n",
       "      <td>0.251654</td>\n",
       "      <td>0.258876</td>\n",
       "      <td>0.073473</td>\n",
       "      <td>0.387800</td>\n",
       "      <td>0.799260</td>\n",
       "    </tr>\n",
       "    <tr>\n",
       "      <th>num_voted_users</th>\n",
       "      <td>0.623607</td>\n",
       "      <td>0.361775</td>\n",
       "      <td>0.311063</td>\n",
       "      <td>0.293931</td>\n",
       "      <td>0.178378</td>\n",
       "      <td>0.644193</td>\n",
       "      <td>1.000000</td>\n",
       "      <td>0.254482</td>\n",
       "      <td>-0.040156</td>\n",
       "      <td>0.797361</td>\n",
       "      <td>0.432440</td>\n",
       "      <td>0.026140</td>\n",
       "      <td>0.270115</td>\n",
       "      <td>0.446221</td>\n",
       "      <td>-0.009756</td>\n",
       "      <td>0.538399</td>\n",
       "      <td>0.514155</td>\n",
       "    </tr>\n",
       "    <tr>\n",
       "      <th>cast_total_facebook_likes</th>\n",
       "      <td>0.263164</td>\n",
       "      <td>0.143267</td>\n",
       "      <td>0.114187</td>\n",
       "      <td>0.463763</td>\n",
       "      <td>0.952521</td>\n",
       "      <td>0.229336</td>\n",
       "      <td>0.254482</td>\n",
       "      <td>1.000000</td>\n",
       "      <td>0.085544</td>\n",
       "      <td>0.199839</td>\n",
       "      <td>0.243543</td>\n",
       "      <td>0.124441</td>\n",
       "      <td>0.616063</td>\n",
       "      <td>0.111948</td>\n",
       "      <td>-0.015909</td>\n",
       "      <td>0.206422</td>\n",
       "      <td>0.106701</td>\n",
       "    </tr>\n",
       "    <tr>\n",
       "      <th>facenumber_in_poster</th>\n",
       "      <td>-0.035415</td>\n",
       "      <td>0.000608</td>\n",
       "      <td>-0.046969</td>\n",
       "      <td>0.099629</td>\n",
       "      <td>0.066992</td>\n",
       "      <td>-0.031841</td>\n",
       "      <td>-0.040156</td>\n",
       "      <td>0.085544</td>\n",
       "      <td>1.000000</td>\n",
       "      <td>-0.082083</td>\n",
       "      <td>-0.023416</td>\n",
       "      <td>0.069021</td>\n",
       "      <td>0.064390</td>\n",
       "      <td>-0.067013</td>\n",
       "      <td>0.012296</td>\n",
       "      <td>0.005728</td>\n",
       "      <td>-0.024977</td>\n",
       "    </tr>\n",
       "    <tr>\n",
       "      <th>num_user_for_reviews</th>\n",
       "      <td>0.612704</td>\n",
       "      <td>0.365386</td>\n",
       "      <td>0.239738</td>\n",
       "      <td>0.237301</td>\n",
       "      <td>0.134527</td>\n",
       "      <td>0.557896</td>\n",
       "      <td>0.797361</td>\n",
       "      <td>0.199839</td>\n",
       "      <td>-0.082083</td>\n",
       "      <td>1.000000</td>\n",
       "      <td>0.435394</td>\n",
       "      <td>0.019290</td>\n",
       "      <td>0.225234</td>\n",
       "      <td>0.319120</td>\n",
       "      <td>-0.019854</td>\n",
       "      <td>0.416648</td>\n",
       "      <td>0.397420</td>\n",
       "    </tr>\n",
       "    <tr>\n",
       "      <th>budget</th>\n",
       "      <td>0.526367</td>\n",
       "      <td>0.317688</td>\n",
       "      <td>0.097482</td>\n",
       "      <td>0.288860</td>\n",
       "      <td>0.160462</td>\n",
       "      <td>0.646158</td>\n",
       "      <td>0.432440</td>\n",
       "      <td>0.243543</td>\n",
       "      <td>-0.023416</td>\n",
       "      <td>0.435394</td>\n",
       "      <td>1.000000</td>\n",
       "      <td>0.232640</td>\n",
       "      <td>0.271725</td>\n",
       "      <td>0.077970</td>\n",
       "      <td>0.070205</td>\n",
       "      <td>0.353245</td>\n",
       "      <td>0.057774</td>\n",
       "    </tr>\n",
       "    <tr>\n",
       "      <th>title_year</th>\n",
       "      <td>0.303602</td>\n",
       "      <td>-0.121691</td>\n",
       "      <td>-0.066964</td>\n",
       "      <td>0.114134</td>\n",
       "      <td>0.095718</td>\n",
       "      <td>0.036865</td>\n",
       "      <td>0.026140</td>\n",
       "      <td>0.124441</td>\n",
       "      <td>0.069021</td>\n",
       "      <td>0.019290</td>\n",
       "      <td>0.232640</td>\n",
       "      <td>1.000000</td>\n",
       "      <td>0.117091</td>\n",
       "      <td>-0.230046</td>\n",
       "      <td>0.170268</td>\n",
       "      <td>0.226859</td>\n",
       "      <td>-0.122092</td>\n",
       "    </tr>\n",
       "    <tr>\n",
       "      <th>actor_2_facebook_likes</th>\n",
       "      <td>0.298187</td>\n",
       "      <td>0.160869</td>\n",
       "      <td>0.119034</td>\n",
       "      <td>0.556878</td>\n",
       "      <td>0.377472</td>\n",
       "      <td>0.251654</td>\n",
       "      <td>0.270115</td>\n",
       "      <td>0.616063</td>\n",
       "      <td>0.064390</td>\n",
       "      <td>0.225234</td>\n",
       "      <td>0.271725</td>\n",
       "      <td>0.117091</td>\n",
       "      <td>1.000000</td>\n",
       "      <td>0.105738</td>\n",
       "      <td>-0.005107</td>\n",
       "      <td>0.250963</td>\n",
       "      <td>0.124302</td>\n",
       "    </tr>\n",
       "    <tr>\n",
       "      <th>imdb_score</th>\n",
       "      <td>0.319045</td>\n",
       "      <td>0.274634</td>\n",
       "      <td>0.200966</td>\n",
       "      <td>0.073064</td>\n",
       "      <td>0.095867</td>\n",
       "      <td>0.258876</td>\n",
       "      <td>0.446221</td>\n",
       "      <td>0.111948</td>\n",
       "      <td>-0.067013</td>\n",
       "      <td>0.319120</td>\n",
       "      <td>0.077970</td>\n",
       "      <td>-0.230046</td>\n",
       "      <td>0.105738</td>\n",
       "      <td>1.000000</td>\n",
       "      <td>0.044391</td>\n",
       "      <td>0.259630</td>\n",
       "      <td>0.294991</td>\n",
       "    </tr>\n",
       "    <tr>\n",
       "      <th>aspect_ratio</th>\n",
       "      <td>-0.040577</td>\n",
       "      <td>-0.144641</td>\n",
       "      <td>0.009347</td>\n",
       "      <td>-0.001140</td>\n",
       "      <td>-0.018482</td>\n",
       "      <td>0.073473</td>\n",
       "      <td>-0.009756</td>\n",
       "      <td>-0.015909</td>\n",
       "      <td>0.012296</td>\n",
       "      <td>-0.019854</td>\n",
       "      <td>0.070205</td>\n",
       "      <td>0.170268</td>\n",
       "      <td>-0.005107</td>\n",
       "      <td>0.044391</td>\n",
       "      <td>1.000000</td>\n",
       "      <td>0.026499</td>\n",
       "      <td>-0.048787</td>\n",
       "    </tr>\n",
       "    <tr>\n",
       "      <th>movie_facebook_likes</th>\n",
       "      <td>0.687523</td>\n",
       "      <td>0.238889</td>\n",
       "      <td>0.169988</td>\n",
       "      <td>0.308868</td>\n",
       "      <td>0.124172</td>\n",
       "      <td>0.387800</td>\n",
       "      <td>0.538399</td>\n",
       "      <td>0.206422</td>\n",
       "      <td>0.005728</td>\n",
       "      <td>0.416648</td>\n",
       "      <td>0.353245</td>\n",
       "      <td>0.226859</td>\n",
       "      <td>0.250963</td>\n",
       "      <td>0.259630</td>\n",
       "      <td>0.026499</td>\n",
       "      <td>1.000000</td>\n",
       "      <td>0.237029</td>\n",
       "    </tr>\n",
       "    <tr>\n",
       "      <th>profit</th>\n",
       "      <td>0.252738</td>\n",
       "      <td>0.132564</td>\n",
       "      <td>0.107052</td>\n",
       "      <td>0.177528</td>\n",
       "      <td>0.050701</td>\n",
       "      <td>0.799260</td>\n",
       "      <td>0.514155</td>\n",
       "      <td>0.106701</td>\n",
       "      <td>-0.024977</td>\n",
       "      <td>0.397420</td>\n",
       "      <td>0.057774</td>\n",
       "      <td>-0.122092</td>\n",
       "      <td>0.124302</td>\n",
       "      <td>0.294991</td>\n",
       "      <td>-0.048787</td>\n",
       "      <td>0.237029</td>\n",
       "      <td>1.000000</td>\n",
       "    </tr>\n",
       "  </tbody>\n",
       "</table>\n",
       "</div>"
      ],
      "text/plain": [
       "                           num_critic_for_reviews  duration  \\\n",
       "num_critic_for_reviews                   1.000000  0.311830   \n",
       "duration                                 0.311830  1.000000   \n",
       "director_facebook_likes                  0.187841  0.205681   \n",
       "actor_3_facebook_likes                   0.295335  0.150070   \n",
       "actor_1_facebook_likes                   0.181699  0.099563   \n",
       "gross                                    0.496316  0.290107   \n",
       "num_voted_users                          0.623607  0.361775   \n",
       "cast_total_facebook_likes                0.263164  0.143267   \n",
       "facenumber_in_poster                    -0.035415  0.000608   \n",
       "num_user_for_reviews                     0.612704  0.365386   \n",
       "budget                                   0.526367  0.317688   \n",
       "title_year                               0.303602 -0.121691   \n",
       "actor_2_facebook_likes                   0.298187  0.160869   \n",
       "imdb_score                               0.319045  0.274634   \n",
       "aspect_ratio                            -0.040577 -0.144641   \n",
       "movie_facebook_likes                     0.687523  0.238889   \n",
       "profit                                   0.252738  0.132564   \n",
       "\n",
       "                           director_facebook_likes  actor_3_facebook_likes  \\\n",
       "num_critic_for_reviews                    0.187841                0.295335   \n",
       "duration                                  0.205681                0.150070   \n",
       "director_facebook_likes                   1.000000                0.121135   \n",
       "actor_3_facebook_likes                    0.121135                1.000000   \n",
       "actor_1_facebook_likes                    0.084878                0.241513   \n",
       "gross                                     0.140826                0.304574   \n",
       "num_voted_users                           0.311063                0.293931   \n",
       "cast_total_facebook_likes                 0.114187                0.463763   \n",
       "facenumber_in_poster                     -0.046969                0.099629   \n",
       "num_user_for_reviews                      0.239738                0.237301   \n",
       "budget                                    0.097482                0.288860   \n",
       "title_year                               -0.066964                0.114134   \n",
       "actor_2_facebook_likes                    0.119034                0.556878   \n",
       "imdb_score                                0.200966                0.073064   \n",
       "aspect_ratio                              0.009347               -0.001140   \n",
       "movie_facebook_likes                      0.169988                0.308868   \n",
       "profit                                    0.107052                0.177528   \n",
       "\n",
       "                           actor_1_facebook_likes     gross  num_voted_users  \\\n",
       "num_critic_for_reviews                   0.181699  0.496316         0.623607   \n",
       "duration                                 0.099563  0.290107         0.361775   \n",
       "director_facebook_likes                  0.084878  0.140826         0.311063   \n",
       "actor_3_facebook_likes                   0.241513  0.304574         0.293931   \n",
       "actor_1_facebook_likes                   1.000000  0.137337         0.178378   \n",
       "gross                                    0.137337  1.000000         0.644193   \n",
       "num_voted_users                          0.178378  0.644193         1.000000   \n",
       "cast_total_facebook_likes                0.952521  0.229336         0.254482   \n",
       "facenumber_in_poster                     0.066992 -0.031841        -0.040156   \n",
       "num_user_for_reviews                     0.134527  0.557896         0.797361   \n",
       "budget                                   0.160462  0.646158         0.432440   \n",
       "title_year                               0.095718  0.036865         0.026140   \n",
       "actor_2_facebook_likes                   0.377472  0.251654         0.270115   \n",
       "imdb_score                               0.095867  0.258876         0.446221   \n",
       "aspect_ratio                            -0.018482  0.073473        -0.009756   \n",
       "movie_facebook_likes                     0.124172  0.387800         0.538399   \n",
       "profit                                   0.050701  0.799260         0.514155   \n",
       "\n",
       "                           cast_total_facebook_likes  facenumber_in_poster  \\\n",
       "num_critic_for_reviews                      0.263164             -0.035415   \n",
       "duration                                    0.143267              0.000608   \n",
       "director_facebook_likes                     0.114187             -0.046969   \n",
       "actor_3_facebook_likes                      0.463763              0.099629   \n",
       "actor_1_facebook_likes                      0.952521              0.066992   \n",
       "gross                                       0.229336             -0.031841   \n",
       "num_voted_users                             0.254482             -0.040156   \n",
       "cast_total_facebook_likes                   1.000000              0.085544   \n",
       "facenumber_in_poster                        0.085544              1.000000   \n",
       "num_user_for_reviews                        0.199839             -0.082083   \n",
       "budget                                      0.243543             -0.023416   \n",
       "title_year                                  0.124441              0.069021   \n",
       "actor_2_facebook_likes                      0.616063              0.064390   \n",
       "imdb_score                                  0.111948             -0.067013   \n",
       "aspect_ratio                               -0.015909              0.012296   \n",
       "movie_facebook_likes                        0.206422              0.005728   \n",
       "profit                                      0.106701             -0.024977   \n",
       "\n",
       "                           num_user_for_reviews    budget  title_year  \\\n",
       "num_critic_for_reviews                 0.612704  0.526367    0.303602   \n",
       "duration                               0.365386  0.317688   -0.121691   \n",
       "director_facebook_likes                0.239738  0.097482   -0.066964   \n",
       "actor_3_facebook_likes                 0.237301  0.288860    0.114134   \n",
       "actor_1_facebook_likes                 0.134527  0.160462    0.095718   \n",
       "gross                                  0.557896  0.646158    0.036865   \n",
       "num_voted_users                        0.797361  0.432440    0.026140   \n",
       "cast_total_facebook_likes              0.199839  0.243543    0.124441   \n",
       "facenumber_in_poster                  -0.082083 -0.023416    0.069021   \n",
       "num_user_for_reviews                   1.000000  0.435394    0.019290   \n",
       "budget                                 0.435394  1.000000    0.232640   \n",
       "title_year                             0.019290  0.232640    1.000000   \n",
       "actor_2_facebook_likes                 0.225234  0.271725    0.117091   \n",
       "imdb_score                             0.319120  0.077970   -0.230046   \n",
       "aspect_ratio                          -0.019854  0.070205    0.170268   \n",
       "movie_facebook_likes                   0.416648  0.353245    0.226859   \n",
       "profit                                 0.397420  0.057774   -0.122092   \n",
       "\n",
       "                           actor_2_facebook_likes  imdb_score  aspect_ratio  \\\n",
       "num_critic_for_reviews                   0.298187    0.319045     -0.040577   \n",
       "duration                                 0.160869    0.274634     -0.144641   \n",
       "director_facebook_likes                  0.119034    0.200966      0.009347   \n",
       "actor_3_facebook_likes                   0.556878    0.073064     -0.001140   \n",
       "actor_1_facebook_likes                   0.377472    0.095867     -0.018482   \n",
       "gross                                    0.251654    0.258876      0.073473   \n",
       "num_voted_users                          0.270115    0.446221     -0.009756   \n",
       "cast_total_facebook_likes                0.616063    0.111948     -0.015909   \n",
       "facenumber_in_poster                     0.064390   -0.067013      0.012296   \n",
       "num_user_for_reviews                     0.225234    0.319120     -0.019854   \n",
       "budget                                   0.271725    0.077970      0.070205   \n",
       "title_year                               0.117091   -0.230046      0.170268   \n",
       "actor_2_facebook_likes                   1.000000    0.105738     -0.005107   \n",
       "imdb_score                               0.105738    1.000000      0.044391   \n",
       "aspect_ratio                            -0.005107    0.044391      1.000000   \n",
       "movie_facebook_likes                     0.250963    0.259630      0.026499   \n",
       "profit                                   0.124302    0.294991     -0.048787   \n",
       "\n",
       "                           movie_facebook_likes    profit  \n",
       "num_critic_for_reviews                 0.687523  0.252738  \n",
       "duration                               0.238889  0.132564  \n",
       "director_facebook_likes                0.169988  0.107052  \n",
       "actor_3_facebook_likes                 0.308868  0.177528  \n",
       "actor_1_facebook_likes                 0.124172  0.050701  \n",
       "gross                                  0.387800  0.799260  \n",
       "num_voted_users                        0.538399  0.514155  \n",
       "cast_total_facebook_likes              0.206422  0.106701  \n",
       "facenumber_in_poster                   0.005728 -0.024977  \n",
       "num_user_for_reviews                   0.416648  0.397420  \n",
       "budget                                 0.353245  0.057774  \n",
       "title_year                             0.226859 -0.122092  \n",
       "actor_2_facebook_likes                 0.250963  0.124302  \n",
       "imdb_score                             0.259630  0.294991  \n",
       "aspect_ratio                           0.026499 -0.048787  \n",
       "movie_facebook_likes                   1.000000  0.237029  \n",
       "profit                                 0.237029  1.000000  "
      ]
     },
     "execution_count": 300,
     "metadata": {},
     "output_type": "execute_result"
    }
   ],
   "source": [
    "movies_dataframe.corr()"
   ]
  },
  {
   "cell_type": "code",
   "execution_count": 301,
   "metadata": {},
   "outputs": [
    {
     "ename": "KeyError",
     "evalue": "\"['profitlabel'] not in index\"",
     "output_type": "error",
     "traceback": [
      "\u001b[1;31m---------------------------------------------------------------------------\u001b[0m",
      "\u001b[1;31mKeyError\u001b[0m                                  Traceback (most recent call last)",
      "\u001b[1;32m<ipython-input-301-0ff9c392a8a8>\u001b[0m in \u001b[0;36m<module>\u001b[1;34m()\u001b[0m\n\u001b[1;32m----> 1\u001b[1;33m \u001b[0mmovies_dataframe\u001b[0m\u001b[1;33m.\u001b[0m\u001b[0mcorr\u001b[0m\u001b[1;33m(\u001b[0m\u001b[1;33m)\u001b[0m\u001b[1;33m[\u001b[0m\u001b[1;33m[\u001b[0m\u001b[1;34m'profitlabel'\u001b[0m\u001b[1;33m]\u001b[0m\u001b[1;33m]\u001b[0m\u001b[1;33m\u001b[0m\u001b[0m\n\u001b[0m",
      "\u001b[1;32mC:\\Anaconda3\\lib\\site-packages\\pandas\\core\\frame.py\u001b[0m in \u001b[0;36m__getitem__\u001b[1;34m(self, key)\u001b[0m\n\u001b[0;32m   2054\u001b[0m         \u001b[1;32mif\u001b[0m \u001b[0misinstance\u001b[0m\u001b[1;33m(\u001b[0m\u001b[0mkey\u001b[0m\u001b[1;33m,\u001b[0m \u001b[1;33m(\u001b[0m\u001b[0mSeries\u001b[0m\u001b[1;33m,\u001b[0m \u001b[0mnp\u001b[0m\u001b[1;33m.\u001b[0m\u001b[0mndarray\u001b[0m\u001b[1;33m,\u001b[0m \u001b[0mIndex\u001b[0m\u001b[1;33m,\u001b[0m \u001b[0mlist\u001b[0m\u001b[1;33m)\u001b[0m\u001b[1;33m)\u001b[0m\u001b[1;33m:\u001b[0m\u001b[1;33m\u001b[0m\u001b[0m\n\u001b[0;32m   2055\u001b[0m             \u001b[1;31m# either boolean or fancy integer index\u001b[0m\u001b[1;33m\u001b[0m\u001b[1;33m\u001b[0m\u001b[0m\n\u001b[1;32m-> 2056\u001b[1;33m             \u001b[1;32mreturn\u001b[0m \u001b[0mself\u001b[0m\u001b[1;33m.\u001b[0m\u001b[0m_getitem_array\u001b[0m\u001b[1;33m(\u001b[0m\u001b[0mkey\u001b[0m\u001b[1;33m)\u001b[0m\u001b[1;33m\u001b[0m\u001b[0m\n\u001b[0m\u001b[0;32m   2057\u001b[0m         \u001b[1;32melif\u001b[0m \u001b[0misinstance\u001b[0m\u001b[1;33m(\u001b[0m\u001b[0mkey\u001b[0m\u001b[1;33m,\u001b[0m \u001b[0mDataFrame\u001b[0m\u001b[1;33m)\u001b[0m\u001b[1;33m:\u001b[0m\u001b[1;33m\u001b[0m\u001b[0m\n\u001b[0;32m   2058\u001b[0m             \u001b[1;32mreturn\u001b[0m \u001b[0mself\u001b[0m\u001b[1;33m.\u001b[0m\u001b[0m_getitem_frame\u001b[0m\u001b[1;33m(\u001b[0m\u001b[0mkey\u001b[0m\u001b[1;33m)\u001b[0m\u001b[1;33m\u001b[0m\u001b[0m\n",
      "\u001b[1;32mC:\\Anaconda3\\lib\\site-packages\\pandas\\core\\frame.py\u001b[0m in \u001b[0;36m_getitem_array\u001b[1;34m(self, key)\u001b[0m\n\u001b[0;32m   2098\u001b[0m             \u001b[1;32mreturn\u001b[0m \u001b[0mself\u001b[0m\u001b[1;33m.\u001b[0m\u001b[0mtake\u001b[0m\u001b[1;33m(\u001b[0m\u001b[0mindexer\u001b[0m\u001b[1;33m,\u001b[0m \u001b[0maxis\u001b[0m\u001b[1;33m=\u001b[0m\u001b[1;36m0\u001b[0m\u001b[1;33m,\u001b[0m \u001b[0mconvert\u001b[0m\u001b[1;33m=\u001b[0m\u001b[1;32mFalse\u001b[0m\u001b[1;33m)\u001b[0m\u001b[1;33m\u001b[0m\u001b[0m\n\u001b[0;32m   2099\u001b[0m         \u001b[1;32melse\u001b[0m\u001b[1;33m:\u001b[0m\u001b[1;33m\u001b[0m\u001b[0m\n\u001b[1;32m-> 2100\u001b[1;33m             \u001b[0mindexer\u001b[0m \u001b[1;33m=\u001b[0m \u001b[0mself\u001b[0m\u001b[1;33m.\u001b[0m\u001b[0mloc\u001b[0m\u001b[1;33m.\u001b[0m\u001b[0m_convert_to_indexer\u001b[0m\u001b[1;33m(\u001b[0m\u001b[0mkey\u001b[0m\u001b[1;33m,\u001b[0m \u001b[0maxis\u001b[0m\u001b[1;33m=\u001b[0m\u001b[1;36m1\u001b[0m\u001b[1;33m)\u001b[0m\u001b[1;33m\u001b[0m\u001b[0m\n\u001b[0m\u001b[0;32m   2101\u001b[0m             \u001b[1;32mreturn\u001b[0m \u001b[0mself\u001b[0m\u001b[1;33m.\u001b[0m\u001b[0mtake\u001b[0m\u001b[1;33m(\u001b[0m\u001b[0mindexer\u001b[0m\u001b[1;33m,\u001b[0m \u001b[0maxis\u001b[0m\u001b[1;33m=\u001b[0m\u001b[1;36m1\u001b[0m\u001b[1;33m,\u001b[0m \u001b[0mconvert\u001b[0m\u001b[1;33m=\u001b[0m\u001b[1;32mTrue\u001b[0m\u001b[1;33m)\u001b[0m\u001b[1;33m\u001b[0m\u001b[0m\n\u001b[0;32m   2102\u001b[0m \u001b[1;33m\u001b[0m\u001b[0m\n",
      "\u001b[1;32mC:\\Anaconda3\\lib\\site-packages\\pandas\\core\\indexing.py\u001b[0m in \u001b[0;36m_convert_to_indexer\u001b[1;34m(self, obj, axis, is_setter)\u001b[0m\n\u001b[0;32m   1229\u001b[0m                 \u001b[0mmask\u001b[0m \u001b[1;33m=\u001b[0m \u001b[0mcheck\u001b[0m \u001b[1;33m==\u001b[0m \u001b[1;33m-\u001b[0m\u001b[1;36m1\u001b[0m\u001b[1;33m\u001b[0m\u001b[0m\n\u001b[0;32m   1230\u001b[0m                 \u001b[1;32mif\u001b[0m \u001b[0mmask\u001b[0m\u001b[1;33m.\u001b[0m\u001b[0many\u001b[0m\u001b[1;33m(\u001b[0m\u001b[1;33m)\u001b[0m\u001b[1;33m:\u001b[0m\u001b[1;33m\u001b[0m\u001b[0m\n\u001b[1;32m-> 1231\u001b[1;33m                     \u001b[1;32mraise\u001b[0m \u001b[0mKeyError\u001b[0m\u001b[1;33m(\u001b[0m\u001b[1;34m'%s not in index'\u001b[0m \u001b[1;33m%\u001b[0m \u001b[0mobjarr\u001b[0m\u001b[1;33m[\u001b[0m\u001b[0mmask\u001b[0m\u001b[1;33m]\u001b[0m\u001b[1;33m)\u001b[0m\u001b[1;33m\u001b[0m\u001b[0m\n\u001b[0m\u001b[0;32m   1232\u001b[0m \u001b[1;33m\u001b[0m\u001b[0m\n\u001b[0;32m   1233\u001b[0m                 \u001b[1;32mreturn\u001b[0m \u001b[0m_values_from_object\u001b[0m\u001b[1;33m(\u001b[0m\u001b[0mindexer\u001b[0m\u001b[1;33m)\u001b[0m\u001b[1;33m\u001b[0m\u001b[0m\n",
      "\u001b[1;31mKeyError\u001b[0m: \"['profitlabel'] not in index\""
     ]
    }
   ],
   "source": [
    "movies_dataframe.corr()[['profitlabel']]"
   ]
  },
  {
   "cell_type": "code",
   "execution_count": 302,
   "metadata": {},
   "outputs": [
    {
     "data": {
      "text/plain": [
       "<matplotlib.axes._subplots.AxesSubplot at 0x21e91ac0320>"
      ]
     },
     "execution_count": 302,
     "metadata": {},
     "output_type": "execute_result"
    },
    {
     "data": {
      "image/png": "[encoded data removed]",
      "text/plain": [
       "<matplotlib.figure.Figure at 0x21e8d6e5518>"
      ]
     },
     "metadata": {},
     "output_type": "display_data"
    }
   ],
   "source": [
    "# fig, axn = plt.subplots(figsize = (11, 9))\n",
    "# sns.heatmap(movies_dataframe.corr(), \n",
    "#             sns.diverging_palette(220, 10, as_cmap = True), \n",
    "#             vmax = 1, square = True, axn = axn)\n",
    "\n",
    "# fig, axn = plt.subplots(figsize = (11, 9))\n",
    "# sns.heatmap(movies_dataframe.corr(),\n",
    "#             cmap = sns.diverging_palette(255, 133, l = 60, n = 7, \n",
    "#                                          as_cmap = True), \n",
    "#             square = True,\n",
    "#             vmax = 0.5,\n",
    "#             cbar_kws = {'shrink': 0.7},\n",
    "#             linewidths = 1,\n",
    "#             ax = axn)\n",
    "\n",
    "fig, axn = plt.subplots(figsize = (11, 9))\n",
    "sns.heatmap(movies_dataframe.corr(),\n",
    "            cmap = sns.diverging_palette(220, 10, \n",
    "                                         as_cmap = True), \n",
    "            square = True,\n",
    "            vmax = 0.5,\n",
    "            cbar_kws = {'shrink': 0.7},\n",
    "            linewidths = 1,\n",
    "            ax = axn)"
   ]
  },
  {
   "cell_type": "code",
   "execution_count": 120,
   "metadata": {},
   "outputs": [
    {
     "name": "stdout",
     "output_type": "stream",
     "text": [
      "0.672348484848\n"
     ]
    }
   ],
   "source": [
    "# \n",
    "X = movies_dataframe[['imdb_score', 'budget', 'duration', 'title_year', 'num_critic_for_reviews', 'num_user_for_reviews', 'num_voted_users', 'facenumber_in_poster', 'colorlabel']]\n",
    "y = movies_dataframe['profitlabel']\n",
    "\n",
    "X_train, X_test, y_train, y_test = train_test_split(X, y, test_size=0.3, random_state=42)\n",
    "\n",
    "knn = KNeighborsClassifier(n_neighbors = 5)\n",
    "knn.fit(X_train, y_train)\n",
    "y_predict = knn.predict(X_test)\n",
    "\n",
    "score = accuracy_score(y_test, y_predict)\n",
    "print(score)"
   ]
  },
  {
   "cell_type": "code",
   "execution_count": 121,
   "metadata": {},
   "outputs": [
    {
     "name": "stdout",
     "output_type": "stream",
     "text": [
      "0.525941719972\n"
     ]
    }
   ],
   "source": [
    "#feature_cols = ['imdb_score']\n",
    "X = movies_dataframe[['imdb_score']]\n",
    "\n",
    "X_train, X_test, y_train, y_test = train_test_split(X, y, test_size=0.4, random_state=1)\n",
    "\n",
    "knn = KNeighborsClassifier(n_neighbors = 5)\n",
    "knn.fit(X_train, y_train)\n",
    "y_predict = knn.predict(X_test)\n",
    "score = accuracy_score(y_test, y_predict)\n",
    "print(score)"
   ]
  },
  {
   "cell_type": "code",
   "execution_count": 103,
   "metadata": {},
   "outputs": [
    {
     "name": "stdout",
     "output_type": "stream",
     "text": [
      "0.524520255864\n"
     ]
    }
   ],
   "source": [
    "feature_cols = ['colorlabel']\n",
    "X = movies_dataframe[['colorlabel']]\n",
    "\n",
    "X_train, X_test, y_train, y_test = train_test_split(X, profitable, test_size=0.4, random_state=1)\n",
    "\n",
    "knn = KNeighborsClassifier(n_neighbors = 5)\n",
    "knn.fit(X_train, y_train)\n",
    "y_predict = knn.predict(X_test)\n",
    "score = accuracy_score(y_test, y_predict)\n",
    "print(score)"
   ]
  },
  {
   "cell_type": "code",
   "execution_count": 28,
   "metadata": {},
   "outputs": [
    {
     "name": "stdout",
     "output_type": "stream",
     "text": [
      "0.524520255864\n"
     ]
    }
   ],
   "source": [
    "#feature_cols = ['num_user_for_reviews']\n",
    "X = movies_dataframe[['num_user_for_reviews']]\n",
    "\n",
    "X_train, X_test, y_train, y_test = train_test_split(X, profitable, test_size=0.4, random_state=1)\n",
    "\n",
    "#knn = KNeighborsClassifier(n_neighbors = 5)\n",
    "#knn.fit(X_train, y_train)\n",
    "#y_predict = knn.predict(X_test)\n",
    "score = accuracy_score(y_test, y_predict)\n",
    "print(score)"
   ]
  },
  {
   "cell_type": "code",
   "execution_count": 29,
   "metadata": {},
   "outputs": [
    {
     "name": "stdout",
     "output_type": "stream",
     "text": [
      "0.5486851457\n"
     ]
    }
   ],
   "source": [
    "feature_cols = ['budget']\n",
    "X = movies_dataframe[feature_cols]\n",
    "\n",
    "X_train, X_test, y_train, y_test = train_test_split(X, profitable, test_size=0.4, random_state=1)\n",
    "\n",
    "knn = KNeighborsClassifier(n_neighbors = 5)\n",
    "knn.fit(X_train, y_train)\n",
    "y_predict = knn.predict(X_test)\n",
    "score = accuracy_score(y_test, y_predict)\n",
    "print(score)"
   ]
  },
  {
   "cell_type": "code",
   "execution_count": 30,
   "metadata": {},
   "outputs": [
    {
     "name": "stdout",
     "output_type": "stream",
     "text": [
      "0.477611940299\n"
     ]
    }
   ],
   "source": [
    "feature_cols = ['facenumber_in_poster']\n",
    "X = movies_dataframe[feature_cols]\n",
    "\n",
    "X_train, X_test, y_train, y_test = train_test_split(X, profitable, test_size=0.4, random_state=1)\n",
    "\n",
    "knn = KNeighborsClassifier(n_neighbors = 5)\n",
    "knn.fit(X_train, y_train)\n",
    "y_predict = knn.predict(X_test)\n",
    "score = accuracy_score(y_test, y_predict)\n",
    "print(score)"
   ]
  },
  {
   "cell_type": "code",
   "execution_count": 31,
   "metadata": {},
   "outputs": [
    {
     "name": "stdout",
     "output_type": "stream",
     "text": [
      "0.666666666667\n"
     ]
    }
   ],
   "source": [
    "feature_cols = ['gross']\n",
    "X = movies_dataframe[feature_cols]\n",
    "\n",
    "X_train, X_test, y_train, y_test = train_test_split(X, profitable, test_size=0.4, random_state=1)\n",
    "\n",
    "knn = KNeighborsClassifier(n_neighbors = 5)\n",
    "knn.fit(X_train, y_train)\n",
    "y_predict = knn.predict(X_test)\n",
    "score = accuracy_score(y_test, y_predict)\n",
    "print(score)"
   ]
  },
  {
   "cell_type": "code",
   "execution_count": 32,
   "metadata": {},
   "outputs": [
    {
     "name": "stdout",
     "output_type": "stream",
     "text": [
      "0.488272921109\n"
     ]
    }
   ],
   "source": [
    "feature_cols = ['title_year']\n",
    "X = movies_dataframe[feature_cols]\n",
    "\n",
    "X_train, X_test, y_train, y_test = train_test_split(X, profitable, test_size=0.4, random_state=1)\n",
    "\n",
    "knn = KNeighborsClassifier(n_neighbors = 5)\n",
    "knn.fit(X_train, y_train)\n",
    "y_predict = knn.predict(X_test)\n",
    "score = accuracy_score(y_test, y_predict)\n",
    "print(score)"
   ]
  },
  {
   "cell_type": "code",
   "execution_count": 33,
   "metadata": {},
   "outputs": [
    {
     "name": "stdout",
     "output_type": "stream",
     "text": [
      "0.557924662402\n"
     ]
    }
   ],
   "source": [
    "feature_cols = ['num_critic_for_reviews']\n",
    "X = movies_dataframe[feature_cols]\n",
    "\n",
    "X_train, X_test, y_train, y_test = train_test_split(X, profitable, test_size=0.4, random_state=1)\n",
    "\n",
    "knn = KNeighborsClassifier(n_neighbors = 5)\n",
    "knn.fit(X_train, y_train)\n",
    "y_predict = knn.predict(X_test)\n",
    "score = accuracy_score(y_test, y_predict)\n",
    "print(score)"
   ]
  },
  {
   "cell_type": "code",
   "execution_count": 34,
   "metadata": {},
   "outputs": [
    {
     "name": "stdout",
     "output_type": "stream",
     "text": [
      "0.582800284293\n"
     ]
    }
   ],
   "source": [
    "feature_cols = ['num_voted_users']\n",
    "X = movies_dataframe[feature_cols]\n",
    "\n",
    "X_train, X_test, y_train, y_test = train_test_split(X, profitable, test_size=0.4, random_state=1)\n",
    "\n",
    "knn = KNeighborsClassifier(n_neighbors = 5)\n",
    "knn.fit(X_train, y_train)\n",
    "y_predict = knn.predict(X_test)\n",
    "score = accuracy_score(y_test, y_predict)\n",
    "print(score)"
   ]
  },
  {
   "cell_type": "code",
   "execution_count": 35,
   "metadata": {},
   "outputs": [
    {
     "name": "stdout",
     "output_type": "stream",
     "text": [
      "0.488272921109\n"
     ]
    }
   ],
   "source": [
    "feature_cols = ['duration']\n",
    "X = movies_dataframe[feature_cols]\n",
    "\n",
    "X_train, X_test, y_train, y_test = train_test_split(X, profitable, test_size=0.4, random_state=1)\n",
    "\n",
    "knn = KNeighborsClassifier(n_neighbors = 5)\n",
    "knn.fit(X_train, y_train)\n",
    "y_predict = knn.predict(X_test)\n",
    "score = accuracy_score(y_test, y_predict)\n",
    "print(score)"
   ]
  },
  {
   "cell_type": "markdown",
   "metadata": {},
   "source": [
    "### Normalization of feature matrix"
   ]
  },
  {
   "cell_type": "code",
   "execution_count": 36,
   "metadata": {
    "scrolled": true
   },
   "outputs": [
    {
     "data": {
      "text/html": [
       "<div>\n",
       "<style>\n",
       "    .dataframe thead tr:only-child th {\n",
       "        text-align: right;\n",
       "    }\n",
       "\n",
       "    .dataframe thead th {\n",
       "        text-align: left;\n",
       "    }\n",
       "\n",
       "    .dataframe tbody tr th {\n",
       "        vertical-align: top;\n",
       "    }\n",
       "</style>\n",
       "<table border=\"1\" class=\"dataframe\">\n",
       "  <thead>\n",
       "    <tr style=\"text-align: right;\">\n",
       "      <th></th>\n",
       "      <th>imdb_score</th>\n",
       "      <th>budget</th>\n",
       "      <th>duration</th>\n",
       "      <th>title_year</th>\n",
       "      <th>num_critic_for_reviews</th>\n",
       "      <th>num_user_for_reviews</th>\n",
       "      <th>num_voted_users</th>\n",
       "      <th>facenumber_in_poster</th>\n",
       "      <th>colorlabel</th>\n",
       "    </tr>\n",
       "  </thead>\n",
       "  <tbody>\n",
       "    <tr>\n",
       "      <th>0</th>\n",
       "      <td>0.818182</td>\n",
       "      <td>0.790000</td>\n",
       "      <td>0.539394</td>\n",
       "      <td>0.805556</td>\n",
       "      <td>0.889299</td>\n",
       "      <td>0.654382</td>\n",
       "      <td>0.524453</td>\n",
       "      <td>0.000000</td>\n",
       "      <td>1.0</td>\n",
       "    </tr>\n",
       "    <tr>\n",
       "      <th>1</th>\n",
       "      <td>0.714286</td>\n",
       "      <td>1.000000</td>\n",
       "      <td>0.512121</td>\n",
       "      <td>0.750000</td>\n",
       "      <td>0.371464</td>\n",
       "      <td>0.265267</td>\n",
       "      <td>0.278865</td>\n",
       "      <td>0.000000</td>\n",
       "      <td>1.0</td>\n",
       "    </tr>\n",
       "    <tr>\n",
       "      <th>3</th>\n",
       "      <td>0.896104</td>\n",
       "      <td>0.833333</td>\n",
       "      <td>0.496970</td>\n",
       "      <td>0.888889</td>\n",
       "      <td>1.000000</td>\n",
       "      <td>0.578744</td>\n",
       "      <td>0.677216</td>\n",
       "      <td>0.000000</td>\n",
       "      <td>1.0</td>\n",
       "    </tr>\n",
       "    <tr>\n",
       "      <th>5</th>\n",
       "      <td>0.649351</td>\n",
       "      <td>0.879000</td>\n",
       "      <td>0.400000</td>\n",
       "      <td>0.888889</td>\n",
       "      <td>0.568266</td>\n",
       "      <td>0.158132</td>\n",
       "      <td>0.125579</td>\n",
       "      <td>0.023256</td>\n",
       "      <td>1.0</td>\n",
       "    </tr>\n",
       "    <tr>\n",
       "      <th>6</th>\n",
       "      <td>0.597403</td>\n",
       "      <td>0.860000</td>\n",
       "      <td>0.472727</td>\n",
       "      <td>0.750000</td>\n",
       "      <td>0.482165</td>\n",
       "      <td>0.407542</td>\n",
       "      <td>0.226690</td>\n",
       "      <td>0.000000</td>\n",
       "      <td>1.0</td>\n",
       "    </tr>\n",
       "  </tbody>\n",
       "</table>\n",
       "</div>"
      ],
      "text/plain": [
       "   imdb_score    budget  duration  title_year  num_critic_for_reviews  \\\n",
       "0    0.818182  0.790000  0.539394    0.805556                0.889299   \n",
       "1    0.714286  1.000000  0.512121    0.750000                0.371464   \n",
       "3    0.896104  0.833333  0.496970    0.888889                1.000000   \n",
       "5    0.649351  0.879000  0.400000    0.888889                0.568266   \n",
       "6    0.597403  0.860000  0.472727    0.750000                0.482165   \n",
       "\n",
       "   num_user_for_reviews  num_voted_users  facenumber_in_poster  colorlabel  \n",
       "0              0.654382         0.524453              0.000000         1.0  \n",
       "1              0.265267         0.278865              0.000000         1.0  \n",
       "3              0.578744         0.677216              0.000000         1.0  \n",
       "5              0.158132         0.125579              0.023256         1.0  \n",
       "6              0.407542         0.226690              0.000000         1.0  "
      ]
     },
     "execution_count": 36,
     "metadata": {},
     "output_type": "execute_result"
    }
   ],
   "source": [
    "feature_scaled = movies_dataframe[['imdb_score', 'budget', 'duration', 'title_year', 'num_critic_for_reviews', 'num_user_for_reviews', 'num_voted_users', 'facenumber_in_poster', 'colorlabel']]\n",
    "feature_scaled = feature_scaled.apply(lambda x: ((x - x.min()) / (x.max() - x.min())))\n",
    "\n",
    "feature_scaled.head()"
   ]
  },
  {
   "cell_type": "markdown",
   "metadata": {},
   "source": [
    "### Splitting the dataset"
   ]
  },
  {
   "cell_type": "code",
   "execution_count": 37,
   "metadata": {},
   "outputs": [
    {
     "name": "stdout",
     "output_type": "stream",
     "text": [
      "(2637, 9)\n",
      "(2637, 1)\n",
      "(880, 9)\n",
      "(880, 1)\n"
     ]
    }
   ],
   "source": [
    "X_train, X_test, y_train, y_test = train_test_split(feature_scaled, y, random_state=2)\n",
    "print(X_train.shape)\n",
    "print(y_train.shape)\n",
    "print(X_test.shape)\n",
    "print(y_test.shape)"
   ]
  },
  {
   "cell_type": "markdown",
   "metadata": {},
   "source": [
    "### Linear Regression"
   ]
  },
  {
   "cell_type": "code",
   "execution_count": 38,
   "metadata": {},
   "outputs": [
    {
     "name": "stdout",
     "output_type": "stream",
     "text": [
      "[ 8654399.82902401]\n",
      "\n",
      "[[  3.36477072e+06  -6.44628616e+07  -3.72915573e+07  -1.82640721e+07\n",
      "    1.53425197e+07   3.35471601e+07   2.80126609e+08   2.08708322e+07\n",
      "    1.41562616e+07]]\n"
     ]
    }
   ],
   "source": [
    "linReg = LinearRegression()\n",
    "linReg.fit(X_train, y_train)\n",
    "\n",
    "print(linReg.intercept_)\n",
    "print('')\n",
    "print(linReg.coef_)"
   ]
  },
  {
   "cell_type": "code",
   "execution_count": 39,
   "metadata": {},
   "outputs": [
    {
     "name": "stdout",
     "output_type": "stream",
     "text": [
      "RMSE:  44783592.7342\n"
     ]
    }
   ],
   "source": [
    "testing_set_prediction = linReg.predict(X_test)\n",
    "\n",
    "# Calculate the mean square error of testing\n",
    "mse = metrics.mean_squared_error(y_test, testing_set_prediction)\n",
    "\n",
    "# Calculate the root mean square error of testing\n",
    "rmse = np.sqrt(mse)\n",
    "print(\"RMSE: \", rmse)"
   ]
  },
  {
   "cell_type": "markdown",
   "metadata": {},
   "source": [
    "### 10-Fold Cross Validation"
   ]
  },
  {
   "cell_type": "code",
   "execution_count": 40,
   "metadata": {},
   "outputs": [
    {
     "name": "stdout",
     "output_type": "stream",
     "text": [
      "[ -7.03122281e+15  -3.76339488e+15  -1.70585782e+15  -1.37902645e+15\n",
      "  -1.89880194e+15  -1.14177380e+15  -1.15521573e+15  -8.71745863e+14\n",
      "  -3.45854271e+14  -1.41721036e+14]\n"
     ]
    }
   ],
   "source": [
    "mse_list = cross_val_score(linReg, feature_scaled, y, cv = 10, scoring='neg_mean_squared_error')\n",
    "\n",
    "print(mse_list)"
   ]
  },
  {
   "cell_type": "code",
   "execution_count": 41,
   "metadata": {},
   "outputs": [
    {
     "name": "stdout",
     "output_type": "stream",
     "text": [
      "[ 83852387.00665016  61346514.80368376  41302031.66287243\n",
      "  37135245.34695198  43575244.59780503  33790143.48587293\n",
      "  33988464.61070091  29525342.72168111  18597157.6023379   11904664.46869294]\n"
     ]
    }
   ],
   "source": [
    "# Next we must remove negative numbers to calculate rmse\n",
    "mse_list_pos = -mse_list              # Create a copy of negated values\n",
    "rmse_list = np.sqrt(mse_list_pos)     # Sqrt the copy\n",
    "\n",
    "print(rmse_list)"
   ]
  },
  {
   "cell_type": "code",
   "execution_count": 42,
   "metadata": {},
   "outputs": [
    {
     "name": "stdout",
     "output_type": "stream",
     "text": [
      "Average rmse:  39501719.6307\n",
      "Average error:  0.0752413707252\n"
     ]
    }
   ],
   "source": [
    "# Print out our average RMSE and average error\n",
    "print('Average rmse: ', rmse_list.mean())\n",
    "print('Average error: ', rmse_list.mean()/525000000) # Divide by range of 760505847"
   ]
  },
  {
   "cell_type": "code",
   "execution_count": 193,
   "metadata": {},
   "outputs": [
    {
     "name": "stdout",
     "output_type": "stream",
     "text": [
      "1921\n"
     ]
    }
   ],
   "source": [
    "counter1 = 0\n",
    "for x in movies_dataframe['profit']:\n",
    "    float(x)\n",
    "    if x > 0:\n",
    "        counter1 = counter1 + 1\n",
    "print(counter1)"
   ]
  },
  {
   "cell_type": "code",
   "execution_count": 44,
   "metadata": {},
   "outputs": [
    {
     "ename": "NameError",
     "evalue": "name 'testx' is not defined",
     "output_type": "error",
     "traceback": [
      "\u001b[1;31m---------------------------------------------------------------------------\u001b[0m",
      "\u001b[1;31mNameError\u001b[0m                                 Traceback (most recent call last)",
      "\u001b[1;32m<ipython-input-44-9e9159249417>\u001b[0m in \u001b[0;36m<module>\u001b[1;34m()\u001b[0m\n\u001b[0;32m      5\u001b[0m \u001b[1;31m#testx = np.array(movies_dataframe.iloc[:, 0:29])\u001b[0m\u001b[1;33m\u001b[0m\u001b[1;33m\u001b[0m\u001b[0m\n\u001b[0;32m      6\u001b[0m \u001b[0my\u001b[0m \u001b[1;33m=\u001b[0m \u001b[0mnp\u001b[0m\u001b[1;33m.\u001b[0m\u001b[0marray\u001b[0m\u001b[1;33m(\u001b[0m\u001b[0mmovies_dataframe\u001b[0m\u001b[1;33m[\u001b[0m\u001b[1;34m'profitlabel'\u001b[0m\u001b[1;33m]\u001b[0m\u001b[1;33m)\u001b[0m\u001b[1;33m\u001b[0m\u001b[0m\n\u001b[1;32m----> 7\u001b[1;33m \u001b[0mprint\u001b[0m\u001b[1;33m(\u001b[0m\u001b[0mtestx\u001b[0m\u001b[1;33m)\u001b[0m\u001b[1;33m\u001b[0m\u001b[0m\n\u001b[0m",
      "\u001b[1;31mNameError\u001b[0m: name 'testx' is not defined"
     ]
    }
   ],
   "source": [
    "#testx = np.array(movies_dataframe[['imdb_score', 'budget', 'duration', 'title_year', 'num_critic_for_reviews', 'num_user_for_reviews', 'num_voted_users', 'facenumber_in_poster', 'colorlabel']])\n",
    "X = np.array(X.iloc[:, 0:9])\n",
    "#'imdb_score', 'budget', 'duration', 'title_year', 'num_critic_for_reviews', 'num_user_for_reviews', 'num_voted_users', 'facenumber_in_poster', 'colorlabel']\n",
    "\n",
    "#testx = np.array(movies_dataframe.iloc[:, 0:29])\n",
    "y = np.array(movies_dataframe['profitlabel'])\n",
    "print(testx)"
   ]
  },
  {
   "cell_type": "code",
   "execution_count": 45,
   "metadata": {},
   "outputs": [
    {
     "name": "stdout",
     "output_type": "stream",
     "text": [
      "0.503787878788\n"
     ]
    }
   ],
   "source": [
    "X_train, X_test, y_train, y_test = train_test_split(X, y, test_size=0.3, random_state=42)\n",
    "knn = KNeighborsClassifier(n_neighbors=3)\n",
    "knn.fit(X_train, y_train)\n",
    "pred = knn.predict(X_test)\n",
    "print(accuracy_score(y_test, pred))"
   ]
  },
  {
   "cell_type": "code",
   "execution_count": 236,
   "metadata": {},
   "outputs": [
    {
     "ename": "TypeError",
     "evalue": "'filter' object is not subscriptable",
     "output_type": "error",
     "traceback": [
      "\u001b[1;31m---------------------------------------------------------------------------\u001b[0m",
      "\u001b[1;31mTypeError\u001b[0m                                 Traceback (most recent call last)",
      "\u001b[1;32m<ipython-input-236-64e7fd1b3779>\u001b[0m in \u001b[0;36m<module>\u001b[1;34m()\u001b[0m\n\u001b[0;32m     14\u001b[0m \u001b[0mmean_square\u001b[0m \u001b[1;33m=\u001b[0m \u001b[1;33m[\u001b[0m\u001b[1;36m1\u001b[0m \u001b[1;33m-\u001b[0m \u001b[0mx\u001b[0m \u001b[1;32mfor\u001b[0m \u001b[0mx\u001b[0m \u001b[1;32min\u001b[0m \u001b[0mcv_scores\u001b[0m\u001b[1;33m]\u001b[0m\u001b[1;33m\u001b[0m\u001b[0m\n\u001b[0;32m     15\u001b[0m \u001b[1;33m\u001b[0m\u001b[0m\n\u001b[1;32m---> 16\u001b[1;33m \u001b[0mop_k\u001b[0m \u001b[1;33m=\u001b[0m \u001b[0mneighbors\u001b[0m\u001b[1;33m[\u001b[0m\u001b[0mmean_square\u001b[0m\u001b[1;33m.\u001b[0m\u001b[0mindex\u001b[0m\u001b[1;33m(\u001b[0m\u001b[0mmin\u001b[0m\u001b[1;33m(\u001b[0m\u001b[0mmean_square\u001b[0m\u001b[1;33m)\u001b[0m\u001b[1;33m)\u001b[0m\u001b[1;33m]\u001b[0m\u001b[1;33m\u001b[0m\u001b[0m\n\u001b[0m\u001b[0;32m     17\u001b[0m \u001b[0mprint\u001b[0m\u001b[1;33m(\u001b[0m\u001b[0mop_k\u001b[0m\u001b[1;33m)\u001b[0m\u001b[1;33m\u001b[0m\u001b[0m\n\u001b[0;32m     18\u001b[0m \u001b[1;33m\u001b[0m\u001b[0m\n",
      "\u001b[1;31mTypeError\u001b[0m: 'filter' object is not subscriptable"
     ]
    }
   ],
   "source": [
    "#X = movies_dataframe[['imdb_score', 'budget', 'duration', 'title_year', 'num_critic_for_reviews', 'num_user_for_reviews', 'num_voted_users', 'facenumber_in_poster', 'colorlabel']]\n",
    "#y = movies_dataframe['profitlabel']\n",
    "\n",
    "knn_list = list(range(1,50))\n",
    "neighbors = filter(lambda x: x % 2 != 0, knn_list)\n",
    "\n",
    "cv_scores = []\n",
    "\n",
    "for n in neighbors:\n",
    "    knn = KNeighborsClassifier(n_neighbors = n)\n",
    "    scores = cross_val_score(knn, X_train, y_train, cv=10, scoring = 'accuracy')\n",
    "    cv_scores.append(scores.mean())\n",
    "\n",
    "mean_square = [1 - x for x in cv_scores]\n",
    "\n",
    "op_k = neighbors[mean_square.index(min(mean_square))]\n",
    "print(op_k)\n",
    "\n",
    "plt.plot(neighbors, mean_square)"
   ]
  },
  {
   "cell_type": "code",
   "execution_count": 241,
   "metadata": {},
   "outputs": [
    {
     "data": {
      "text/html": [
       "<div>\n",
       "<style>\n",
       "    .dataframe thead tr:only-child th {\n",
       "        text-align: right;\n",
       "    }\n",
       "\n",
       "    .dataframe thead th {\n",
       "        text-align: left;\n",
       "    }\n",
       "\n",
       "    .dataframe tbody tr th {\n",
       "        vertical-align: top;\n",
       "    }\n",
       "</style>\n",
       "<table border=\"1\" class=\"dataframe\">\n",
       "  <thead>\n",
       "    <tr style=\"text-align: right;\">\n",
       "      <th></th>\n",
       "      <th>imdb_score</th>\n",
       "      <th>budget</th>\n",
       "      <th>duration</th>\n",
       "      <th>title_year</th>\n",
       "      <th>gross</th>\n",
       "      <th>num_critic_for_reviews</th>\n",
       "      <th>num_user_for_reviews</th>\n",
       "      <th>num_voted_users</th>\n",
       "      <th>facenumber_in_poster</th>\n",
       "      <th>colorlabel</th>\n",
       "      <th>profit</th>\n",
       "    </tr>\n",
       "  </thead>\n",
       "  <tbody>\n",
       "    <tr>\n",
       "      <th>0</th>\n",
       "      <td>0.818182</td>\n",
       "      <td>0.790000</td>\n",
       "      <td>0.539394</td>\n",
       "      <td>0.805556</td>\n",
       "      <td>1.000000</td>\n",
       "      <td>0.889299</td>\n",
       "      <td>0.654382</td>\n",
       "      <td>0.524453</td>\n",
       "      <td>0.000000</td>\n",
       "      <td>1.0</td>\n",
       "      <td>1.000000</td>\n",
       "    </tr>\n",
       "    <tr>\n",
       "      <th>1</th>\n",
       "      <td>0.714286</td>\n",
       "      <td>1.000000</td>\n",
       "      <td>0.512121</td>\n",
       "      <td>0.750000</td>\n",
       "      <td>0.406840</td>\n",
       "      <td>0.371464</td>\n",
       "      <td>0.265267</td>\n",
       "      <td>0.278865</td>\n",
       "      <td>0.000000</td>\n",
       "      <td>1.0</td>\n",
       "      <td>0.280118</td>\n",
       "    </tr>\n",
       "    <tr>\n",
       "      <th>3</th>\n",
       "      <td>0.896104</td>\n",
       "      <td>0.833333</td>\n",
       "      <td>0.496970</td>\n",
       "      <td>0.888889</td>\n",
       "      <td>0.589253</td>\n",
       "      <td>1.000000</td>\n",
       "      <td>0.578744</td>\n",
       "      <td>0.677216</td>\n",
       "      <td>0.000000</td>\n",
       "      <td>1.0</td>\n",
       "      <td>0.544386</td>\n",
       "    </tr>\n",
       "    <tr>\n",
       "      <th>5</th>\n",
       "      <td>0.649351</td>\n",
       "      <td>0.879000</td>\n",
       "      <td>0.400000</td>\n",
       "      <td>0.888889</td>\n",
       "      <td>0.096066</td>\n",
       "      <td>0.568266</td>\n",
       "      <td>0.158132</td>\n",
       "      <td>0.125579</td>\n",
       "      <td>0.023256</td>\n",
       "      <td>1.0</td>\n",
       "      <td>0.000000</td>\n",
       "    </tr>\n",
       "    <tr>\n",
       "      <th>6</th>\n",
       "      <td>0.597403</td>\n",
       "      <td>0.860000</td>\n",
       "      <td>0.472727</td>\n",
       "      <td>0.750000</td>\n",
       "      <td>0.442509</td>\n",
       "      <td>0.482165</td>\n",
       "      <td>0.407542</td>\n",
       "      <td>0.226690</td>\n",
       "      <td>0.000000</td>\n",
       "      <td>1.0</td>\n",
       "      <td>0.376913</td>\n",
       "    </tr>\n",
       "  </tbody>\n",
       "</table>\n",
       "</div>"
      ],
      "text/plain": [
       "   imdb_score    budget  duration  title_year     gross  \\\n",
       "0    0.818182  0.790000  0.539394    0.805556  1.000000   \n",
       "1    0.714286  1.000000  0.512121    0.750000  0.406840   \n",
       "3    0.896104  0.833333  0.496970    0.888889  0.589253   \n",
       "5    0.649351  0.879000  0.400000    0.888889  0.096066   \n",
       "6    0.597403  0.860000  0.472727    0.750000  0.442509   \n",
       "\n",
       "   num_critic_for_reviews  num_user_for_reviews  num_voted_users  \\\n",
       "0                0.889299              0.654382         0.524453   \n",
       "1                0.371464              0.265267         0.278865   \n",
       "3                1.000000              0.578744         0.677216   \n",
       "5                0.568266              0.158132         0.125579   \n",
       "6                0.482165              0.407542         0.226690   \n",
       "\n",
       "   facenumber_in_poster  colorlabel    profit  \n",
       "0              0.000000         1.0  1.000000  \n",
       "1              0.000000         1.0  0.280118  \n",
       "3              0.000000         1.0  0.544386  \n",
       "5              0.023256         1.0  0.000000  \n",
       "6              0.000000         1.0  0.376913  "
      ]
     },
     "execution_count": 241,
     "metadata": {},
     "output_type": "execute_result"
    }
   ],
   "source": [
    "feature_scaled = movies_dataframe[['imdb_score', 'budget', 'duration', 'title_year', 'gross', 'num_critic_for_reviews', 'num_user_for_reviews', 'num_voted_users', 'facenumber_in_poster', 'colorlabel', 'profit']]\n",
    "feature_scaled = feature_scaled.apply(lambda x: ((x - x.min()) / (x.max() - x.min())))\n",
    "\n",
    "feature_scaled.head()"
   ]
  },
  {
   "cell_type": "code",
   "execution_count": 1,
   "metadata": {},
   "outputs": [
    {
     "ename": "NameError",
     "evalue": "name 'feature_scaled' is not defined",
     "output_type": "error",
     "traceback": [
      "\u001b[1;31m---------------------------------------------------------------------------\u001b[0m",
      "\u001b[1;31mNameError\u001b[0m                                 Traceback (most recent call last)",
      "\u001b[1;32m<ipython-input-1-0e323f2ba650>\u001b[0m in \u001b[0;36m<module>\u001b[1;34m()\u001b[0m\n\u001b[1;32m----> 1\u001b[1;33m \u001b[0mfeature_scaled\u001b[0m\u001b[1;33m.\u001b[0m\u001b[0mcorr\u001b[0m\u001b[1;33m(\u001b[0m\u001b[1;33m)\u001b[0m\u001b[1;33m[\u001b[0m\u001b[1;33m[\u001b[0m\u001b[1;34m'gross'\u001b[0m\u001b[1;33m]\u001b[0m\u001b[1;33m]\u001b[0m\u001b[1;33m\u001b[0m\u001b[0m\n\u001b[0m",
      "\u001b[1;31mNameError\u001b[0m: name 'feature_scaled' is not defined"
     ]
    }
   ],
   "source": [
    "feature_scaled.corr()[['gross']]"
   ]
  },
  {
   "cell_type": "code",
   "execution_count": 46,
   "metadata": {},
   "outputs": [
    {
     "data": {
      "text/html": [
       "<div>\n",
       "<style>\n",
       "    .dataframe thead tr:only-child th {\n",
       "        text-align: right;\n",
       "    }\n",
       "\n",
       "    .dataframe thead th {\n",
       "        text-align: left;\n",
       "    }\n",
       "\n",
       "    .dataframe tbody tr th {\n",
       "        vertical-align: top;\n",
       "    }\n",
       "</style>\n",
       "<table border=\"1\" class=\"dataframe\">\n",
       "  <thead>\n",
       "    <tr style=\"text-align: right;\">\n",
       "      <th></th>\n",
       "      <th>profit</th>\n",
       "    </tr>\n",
       "  </thead>\n",
       "  <tbody>\n",
       "    <tr>\n",
       "      <th>num_critic_for_reviews</th>\n",
       "      <td>0.275909</td>\n",
       "    </tr>\n",
       "    <tr>\n",
       "      <th>duration</th>\n",
       "      <td>0.134239</td>\n",
       "    </tr>\n",
       "    <tr>\n",
       "      <th>director_facebook_likes</th>\n",
       "      <td>0.112679</td>\n",
       "    </tr>\n",
       "    <tr>\n",
       "      <th>actor_3_facebook_likes</th>\n",
       "      <td>0.190350</td>\n",
       "    </tr>\n",
       "    <tr>\n",
       "      <th>actor_1_facebook_likes</th>\n",
       "      <td>0.061687</td>\n",
       "    </tr>\n",
       "    <tr>\n",
       "      <th>gross</th>\n",
       "      <td>0.791712</td>\n",
       "    </tr>\n",
       "    <tr>\n",
       "      <th>num_voted_users</th>\n",
       "      <td>0.514588</td>\n",
       "    </tr>\n",
       "    <tr>\n",
       "      <th>cast_total_facebook_likes</th>\n",
       "      <td>0.119359</td>\n",
       "    </tr>\n",
       "    <tr>\n",
       "      <th>facenumber_in_poster</th>\n",
       "      <td>-0.019265</td>\n",
       "    </tr>\n",
       "    <tr>\n",
       "      <th>num_user_for_reviews</th>\n",
       "      <td>0.403119</td>\n",
       "    </tr>\n",
       "    <tr>\n",
       "      <th>budget</th>\n",
       "      <td>0.093429</td>\n",
       "    </tr>\n",
       "    <tr>\n",
       "      <th>title_year</th>\n",
       "      <td>-0.087480</td>\n",
       "    </tr>\n",
       "    <tr>\n",
       "      <th>actor_2_facebook_likes</th>\n",
       "      <td>0.140627</td>\n",
       "    </tr>\n",
       "    <tr>\n",
       "      <th>imdb_score</th>\n",
       "      <td>0.261887</td>\n",
       "    </tr>\n",
       "    <tr>\n",
       "      <th>aspect_ratio</th>\n",
       "      <td>0.015969</td>\n",
       "    </tr>\n",
       "    <tr>\n",
       "      <th>movie_facebook_likes</th>\n",
       "      <td>0.245365</td>\n",
       "    </tr>\n",
       "    <tr>\n",
       "      <th>profit</th>\n",
       "      <td>1.000000</td>\n",
       "    </tr>\n",
       "    <tr>\n",
       "      <th>colorlabel</th>\n",
       "      <td>0.005463</td>\n",
       "    </tr>\n",
       "    <tr>\n",
       "      <th>profitlabel</th>\n",
       "      <td>0.524421</td>\n",
       "    </tr>\n",
       "  </tbody>\n",
       "</table>\n",
       "</div>"
      ],
      "text/plain": [
       "                             profit\n",
       "num_critic_for_reviews     0.275909\n",
       "duration                   0.134239\n",
       "director_facebook_likes    0.112679\n",
       "actor_3_facebook_likes     0.190350\n",
       "actor_1_facebook_likes     0.061687\n",
       "gross                      0.791712\n",
       "num_voted_users            0.514588\n",
       "cast_total_facebook_likes  0.119359\n",
       "facenumber_in_poster      -0.019265\n",
       "num_user_for_reviews       0.403119\n",
       "budget                     0.093429\n",
       "title_year                -0.087480\n",
       "actor_2_facebook_likes     0.140627\n",
       "imdb_score                 0.261887\n",
       "aspect_ratio               0.015969\n",
       "movie_facebook_likes       0.245365\n",
       "profit                     1.000000\n",
       "colorlabel                 0.005463\n",
       "profitlabel                0.524421"
      ]
     },
     "execution_count": 46,
     "metadata": {},
     "output_type": "execute_result"
    }
   ],
   "source": [
    "movies_dataframe.corr()[['profit']]"
   ]
  },
  {
   "cell_type": "code",
   "execution_count": null,
   "metadata": {
    "collapsed": true
   },
   "outputs": [],
   "source": []
  }
 ],
 "metadata": {
  "kernelspec": {
   "display_name": "Python 3",
   "language": "python",
   "name": "python3"
  },
  "language_info": {
   "codemirror_mode": {
    "name": "ipython",
    "version": 3
   },
   "file_extension": ".py",
   "mimetype": "text/x-python",
   "name": "python",
   "nbconvert_exporter": "python",
   "pygments_lexer": "ipython3",
   "version": "3.6.1"
  }
 },
 "nbformat": 4,
 "nbformat_minor": 2
}
